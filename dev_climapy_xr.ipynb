{
 "cells": [
  {
   "cell_type": "markdown",
   "metadata": {},
   "source": [
    "# dev_climapy_xr.ipynb\n",
    "## Purpose\n",
    "Development and testing of functions in climapy.climapy_xr.\n",
    "\n",
    "## Dependencies\n",
    "- [climapy](https://github.com/grandey/climapy)\n",
    "- Python packages listed below.\n",
    "- [Climate Data Operators (CDO)](https://code.zmaw.de/projects/cdo) - required for testing purposes.\n",
    "\n",
    "## Author\n",
    "Benjamin S. Grandey, 2017"
   ]
  },
  {
   "cell_type": "code",
   "execution_count": 1,
   "metadata": {
    "collapsed": true
   },
   "outputs": [],
   "source": [
    "import climapy\n",
    "import copy\n",
    "from glob import glob\n",
    "import matplotlib.pyplot as plt\n",
    "from mpl_toolkits.basemap import Basemap\n",
    "import numpy as np\n",
    "import os\n",
    "import xarray as xr\n",
    "\n",
    "%matplotlib inline"
   ]
  },
  {
   "cell_type": "code",
   "execution_count": 2,
   "metadata": {},
   "outputs": [
    {
     "name": "stdout",
     "output_type": "stream",
     "text": [
      "Help on package climapy:\n",
      "\n",
      "NAME\n",
      "    climapy\n",
      "\n",
      "DESCRIPTION\n",
      "    climapy:\n",
      "    Support data analysis of climate model data.\n",
      "    \n",
      "    Author:\n",
      "    Benjamin S. Grandey, 2017\n",
      "\n",
      "PACKAGE CONTENTS\n",
      "    climapy_xr\n",
      "\n",
      "FILE\n",
      "    /Users/grandey/lib/python/climapy/__init__.py\n",
      "\n",
      "\n"
     ]
    }
   ],
   "source": [
    "help(climapy)"
   ]
  },
  {
   "cell_type": "markdown",
   "metadata": {},
   "source": [
    "## Input data location\n",
    "For development and testing, I will use NetCDF data files from [*Data for \"Radiative effects of interannually varying vs. interannually invariant aerosol emissions from fires\"* (doi: 10.6084/m9.figshare.3497705.v5)](https://doi.org/10.6084/m9.figshare.3497705.v5)."
   ]
  },
  {
   "cell_type": "code",
   "execution_count": 3,
   "metadata": {},
   "outputs": [
    {
     "data": {
      "text/plain": [
       "'/Users/grandey/data/figshare/figshare3497705v5/'"
      ]
     },
     "execution_count": 3,
     "metadata": {},
     "output_type": "execute_result"
    }
   ],
   "source": [
    "# Location of gunzipped input NetCDF files - CHANGE IF NECESSARY\n",
    "data_dir = '$HOME/data/figshare/figshare3497705v5/'\n",
    "data_dir = os.path.expandvars(data_dir)\n",
    "data_dir"
   ]
  },
  {
   "cell_type": "markdown",
   "metadata": {},
   "source": [
    "## Temporary data location"
   ]
  },
  {
   "cell_type": "code",
   "execution_count": 4,
   "metadata": {},
   "outputs": [
    {
     "data": {
      "text/plain": [
       "'/Users/grandey/data/temp/'"
      ]
     },
     "execution_count": 4,
     "metadata": {},
     "output_type": "execute_result"
    }
   ],
   "source": [
    "# Directory where temporary data files can be written - CHANGE IF NECESSARY\n",
    "temp_dir = '$HOME/data/temp/'\n",
    "temp_dir = os.path.expandvars(temp_dir)\n",
    "temp_dir"
   ]
  },
  {
   "cell_type": "code",
   "execution_count": 5,
   "metadata": {},
   "outputs": [
    {
     "data": {
      "text/plain": [
       "'temp_dev_climapy_xr_'"
      ]
     },
     "execution_count": 5,
     "metadata": {},
     "output_type": "execute_result"
    }
   ],
   "source": [
    "# Start (prefix) of name of temporary data files\n",
    "temp_pre = 'temp_dev_climapy_xr_'\n",
    "temp_pre"
   ]
  },
  {
   "cell_type": "markdown",
   "metadata": {},
   "source": [
    "## Clean up previously created temporary files?\n",
    "If previously created temporary files are found, user input is required. The recommended answer is 'y'. But proceed with cautioun - this cannot be undone."
   ]
  },
  {
   "cell_type": "code",
   "execution_count": 6,
   "metadata": {},
   "outputs": [
    {
     "name": "stdout",
     "output_type": "stream",
     "text": [
      "No temporary files found.\n"
     ]
    }
   ],
   "source": [
    "# Clean up temporary data files previously created? Recommended, but be cautious.\n",
    "temp_file_list = glob(temp_dir+temp_pre+'*')\n",
    "if temp_file_list:\n",
    "    s = input('Temporary files found: {}\\n'.format(temp_file_list) +\n",
    "              '*Would you like to permanently delete these files?* Type \"y\" if so.\\n' +\n",
    "              'Your response: ')\n",
    "    if s == 'y':\n",
    "        for temp_file in temp_file_list:\n",
    "            print('Deleting {}'.format(temp_file))\n",
    "            os.remove(temp_file)\n",
    "    else:\n",
    "        print('Files not deleted.')\n",
    "else:\n",
    "    print('No temporary files found.')"
   ]
  },
  {
   "cell_type": "markdown",
   "metadata": {},
   "source": [
    "## Prepare Datasets"
   ]
  },
  {
   "cell_type": "code",
   "execution_count": 7,
   "metadata": {},
   "outputs": [
    {
     "name": "stdout",
     "output_type": "stream",
     "text": [
      "f0_dict has keys dict_keys(['input', 'shift_lon', 'renamed', 'reversed', 'reversed_lon', 'reversed_lat', 'transposed', 'irregular', 'strange'])\n",
      "fmean_dict has keys dict_keys(['input', 'shift_lon', 'renamed', 'reversed', 'reversed_lon', 'reversed_lat', 'transposed', 'irregular', 'strange'])\n"
     ]
    }
   ],
   "source": [
    "# Dictionaries in which to store Datasets\n",
    "f0_dict = {}  # Datasets derived from \"F0\" simulation data\n",
    "fmean_dict = {}  # Datasets derived from \"FMEAN\" simulation data\n",
    "\n",
    "# Variables to drop - reduce memory and processing time\n",
    "drop_list = ['AEROD_v', 'CLDHGH', 'CLDLOW', 'CLDMED', 'CLDTOT', 'PRECC', 'PRECL',\n",
    "             'FSNTOAC_d1', 'FSNTOA_d1', 'LWCF_d1', 'SWCF_d1', 'cDRE', 'cCRE', 'cFNTOA',\n",
    "             'pom_a1_SRF', 'TGCLDCWP', 'TGCLDIWP', 'TGCLDLWP']\n",
    "\n",
    "# Load data for simulations F0 and FMEAN\n",
    "f0 = xr.open_dataset(data_dir+'bb0_o2000.nc', decode_times=False, drop_variables=drop_list)  # F0\n",
    "fmean = xr.open_dataset(data_dir+'bb9706_o2000.nc', decode_times=False, drop_variables=drop_list)  # FMEAN\n",
    "f0_dict['input'] = f0.copy().isel(time=slice(60))  # select first 5 years, and store in dict\n",
    "fmean_dict['input'] = fmean.copy().isel(time=slice(60))\n",
    "\n",
    "# Datasets with shifted longitudes - using xr_shift_lon\n",
    "for f in [f0_dict, fmean_dict]:\n",
    "    ds = f['input'].copy()\n",
    "    ds = climapy.xr_shift_lon(ds)\n",
    "    f['shift_lon'] = ds.copy()\n",
    "\n",
    "# Datasets with *renamed* lon and lat dimensions\n",
    "for f in [f0_dict, fmean_dict]:\n",
    "    ds = f['input'].copy()\n",
    "    ds = ds.rename({'lon': 'longitude', 'lat': 'latitude'})\n",
    "    f['renamed'] = ds.copy()\n",
    "    \n",
    "# Datasets with *reversed* lon and lat coords\n",
    "for f in [f0_dict, fmean_dict]:\n",
    "    ds = f['input'].copy()\n",
    "    ds['lon'].values = ds['lon'].values[::-1]\n",
    "    ds['lat'].values = ds['lat'].values[::-1]\n",
    "    for variable in ds.variables:\n",
    "        if variable not in ds.coords and variable != 'time_bnds':\n",
    "            ds[variable].values = ds[variable].values[:, ::-1, ::-1]\n",
    "    f['reversed'] = ds.copy()  # both reversed\n",
    "for f in [f0_dict, fmean_dict]:\n",
    "    ds = f['input'].copy()\n",
    "    ds['lon'].values = ds['lon'].values[::-1]\n",
    "    for variable in ds.variables:\n",
    "        if variable not in ds.coords and variable != 'time_bnds':\n",
    "            ds[variable].values = ds[variable].values[:, :, ::-1]\n",
    "    f['reversed_lon'] = ds.copy()\n",
    "for f in [f0_dict, fmean_dict]:\n",
    "    ds = f['input'].copy()\n",
    "    ds['lat'].values = ds['lat'].values[::-1]\n",
    "    for variable in ds.variables:\n",
    "        if variable not in ds.coords and variable != 'time_bnds':\n",
    "            ds[variable].values = ds[variable].values[:, ::-1, :]\n",
    "    f['reversed_lat'] = ds.copy()\n",
    "    \n",
    "# Datasets with *transposed* lon and lat dimensions\n",
    "for f in [f0_dict, fmean_dict]:\n",
    "    ds = f['input'].copy()\n",
    "    ds = ds.transpose()\n",
    "    f['transposed'] = ds.copy()\n",
    "    \n",
    "# Datasets with slightly *irregular* lon/lat coords, yet still monotonic\n",
    "ds = f0_dict['input'].copy()\n",
    "nx, ny = ds['lon'].size, ds['lat'].size\n",
    "lon_irr = ds['lon'].values + np.random.uniform(low=-0.01, high=0.01, size=nx)  # add small amount of noise\n",
    "lat_irr = ds['lat'].values + np.random.uniform(low=-0.01, high=0.01, size=ny)\n",
    "lat_irr[0] = -89.99  # min latitude should be > -90\n",
    "lat_irr[-1] = 89.99  # max latitude should be < -90\n",
    "for f in [f0_dict, fmean_dict]:\n",
    "    ds = f['input'].copy()\n",
    "    ds['lon'].values = lon_irr\n",
    "    ds['lat'].values = lat_irr\n",
    "    f['irregular'] = ds.copy()\n",
    "\n",
    "# Datasets with *strange* lon/lat coords - very irregular and out of order\n",
    "ds = f0_dict['input'].copy()\n",
    "nx, ny = ds['lon'].size, ds['lat'].size\n",
    "lon_strange = ds['lon'].values + np.random.uniform(low=-10, high=10, size=nx)  # add large amount of noise\n",
    "lat_strange = ds['lat'].values + np.random.uniform(low=-10, high=10, size=ny)\n",
    "if np.all(np.diff(lat_strange) > 0):  # check that lat and lon do not increase montonically\n",
    "    print('!!! Latitude still montonically increasing! RE-RUN CELL. !!!')\n",
    "if np.all(np.diff(lon_strange) > 0):\n",
    "    print('!!! Longitude still montonically increasing! RE-RUN CELL. !!!')\n",
    "for f in [f0_dict, fmean_dict]:\n",
    "    ds = f['input'].copy()\n",
    "    ds['lon'].values = lon_strange\n",
    "    ds['lat'].values = lat_strange\n",
    "    f['strange'] = ds.copy()\n",
    "\n",
    "print('f0_dict has keys {}'.format(f0_dict.keys()))\n",
    "print('fmean_dict has keys {}'.format(fmean_dict.keys()))"
   ]
  },
  {
   "cell_type": "code",
   "execution_count": 8,
   "metadata": {
    "collapsed": true
   },
   "outputs": [],
   "source": [
    "# Create deep copy of these dictionaries to check that data not modified in place by functions - see end of notebook\n",
    "f0_dict_dc = copy.deepcopy(f0_dict)\n",
    "fmean_dict_dc = copy.deepcopy(fmean_dict)"
   ]
  },
  {
   "cell_type": "markdown",
   "metadata": {},
   "source": [
    "## xr_check_lon_lat_match"
   ]
  },
  {
   "cell_type": "code",
   "execution_count": 9,
   "metadata": {},
   "outputs": [
    {
     "name": "stdout",
     "output_type": "stream",
     "text": [
      "Help on function xr_check_lon_lat_match in module climapy.climapy_xr:\n",
      "\n",
      "xr_check_lon_lat_match(xr_data_1, xr_data_2, lon_name='lon', lat_name='lat')\n",
      "    Check whether longitude and latitude coordinates are equal.\n",
      "    \n",
      "    Keyword arguments:\n",
      "    xr_data_1 -- first xarray Dataset or DataArray, with longitude and latitude dimensions\n",
      "    xr_data_2 -- second xarray Dataset or DataArray, with longitude and latitude dimensions\n",
      "    lon_name -- the name of the longitude dimension and coordinate (default 'lon')\n",
      "    lat_name -- the name of the longitude dimension and coordinate (default 'lon')\n",
      "    \n",
      "    Returns:\n",
      "    True or False\n",
      "\n"
     ]
    }
   ],
   "source": [
    "help(climapy.xr_check_lon_lat_match)"
   ]
  },
  {
   "cell_type": "code",
   "execution_count": 10,
   "metadata": {},
   "outputs": [
    {
     "name": "stdout",
     "output_type": "stream",
     "text": [
      "True for \"input\"\n",
      "True for \"shift_lon\"\n",
      "True for \"renamed\"\n",
      "True for \"reversed\"\n",
      "True for \"reversed_lon\"\n",
      "True for \"reversed_lat\"\n",
      "True for \"transposed\"\n",
      "True for \"irregular\"\n",
      "True for \"strange\"\n"
     ]
    }
   ],
   "source": [
    "# Test 1: use every F0,FMEAN pair of Datasets\n",
    "# Expected result: should all be True\n",
    "for key in f0_dict.keys():\n",
    "    if key == 'renamed':\n",
    "        result = climapy.xr_check_lon_lat_match(f0_dict[key], fmean_dict[key],\n",
    "                                                lon_name='longitude', lat_name='latitude')\n",
    "    else:\n",
    "        result = climapy.xr_check_lon_lat_match(f0_dict[key], fmean_dict[key])\n",
    "    print('{} for \"{}\"'.format(result, key))"
   ]
  },
  {
   "cell_type": "code",
   "execution_count": 11,
   "metadata": {},
   "outputs": [
    {
     "name": "stdout",
     "output_type": "stream",
     "text": [
      "True for \"input\"\n",
      "True for \"shift_lon\"\n",
      "True for \"renamed\"\n",
      "True for \"reversed\"\n",
      "True for \"reversed_lon\"\n",
      "True for \"reversed_lat\"\n",
      "True for \"transposed\"\n",
      "True for \"irregular\"\n",
      "True for \"strange\"\n"
     ]
    }
   ],
   "source": [
    "# Test 2: use every F0,FMEAN pair of temperature DataArrays\n",
    "# Expected result: should all be True\n",
    "for key in f0_dict.keys():\n",
    "    if key == 'renamed':\n",
    "        result = climapy.xr_check_lon_lat_match(f0_dict[key]['TS'], fmean_dict[key]['TS'],\n",
    "                                                lon_name='longitude', lat_name='latitude')\n",
    "    else:\n",
    "        result = climapy.xr_check_lon_lat_match(f0_dict[key]['TS'], fmean_dict[key]['TS'])\n",
    "    print('{} for \"{}\"'.format(result, key))"
   ]
  },
  {
   "cell_type": "code",
   "execution_count": 12,
   "metadata": {},
   "outputs": [
    {
     "name": "stdout",
     "output_type": "stream",
     "text": [
      "False for \"shift_lon\"\n",
      "False for \"reversed\"\n",
      "False for \"reversed_lon\"\n",
      "False for \"reversed_lat\"\n",
      "True for \"transposed\"\n",
      "False for \"irregular\"\n",
      "False for \"strange\"\n"
     ]
    }
   ],
   "source": [
    "# Test 3: compare F0['input'] with every other F0 Dataset (apart from 'renamed', due to diff dim names)\n",
    "# Expected result: should all be False, apart from transposed which should be True\n",
    "for key in f0_dict.keys():\n",
    "    if key not in ['input', 'renamed']:\n",
    "        result = climapy.xr_check_lon_lat_match(f0_dict['input'], f0_dict[key])\n",
    "        print('{} for \"{}\"'.format(result, key))"
   ]
  },
  {
   "cell_type": "code",
   "execution_count": 13,
   "metadata": {},
   "outputs": [
    {
     "name": "stdout",
     "output_type": "stream",
     "text": [
      "False for \"shift_lon\"\n",
      "False for \"reversed\"\n",
      "False for \"reversed_lon\"\n",
      "False for \"reversed_lat\"\n",
      "True for \"transposed\"\n",
      "False for \"irregular\"\n",
      "False for \"strange\"\n"
     ]
    }
   ],
   "source": [
    "# Test 4: compare F0['input']['TS'] with every other F0 'TS' DataArray (apart from 'renamed', due to diff dim names)\n",
    "# Expected result: should all be False, apart from transposed which should be True\n",
    "for key in f0_dict.keys():\n",
    "    if key not in ['input', 'renamed']:\n",
    "        result = climapy.xr_check_lon_lat_match(f0_dict['input']['TS'], f0_dict[key]['TS'])\n",
    "        print('{} for \"{}\"'.format(result, key))"
   ]
  },
  {
   "cell_type": "markdown",
   "metadata": {},
   "source": [
    "## xr_shift_lon"
   ]
  },
  {
   "cell_type": "code",
   "execution_count": 14,
   "metadata": {},
   "outputs": [
    {
     "name": "stdout",
     "output_type": "stream",
     "text": [
      "Help on function xr_shift_lon in module climapy.climapy_xr:\n",
      "\n",
      "xr_shift_lon(xr_data, lon_min=-180.0, lon_name='lon')\n",
      "    Shift longitudes of an xarray Dataset or DataArray.\n",
      "    \n",
      "    Keyword arguments:\n",
      "    xr_data -- an xarray Dataset or DataArray, with a longitude dimension\n",
      "    lon_min -- the minimum longitude requested (default -180.)\n",
      "    lon_name -- the name of the longitude dimension (default 'lon')\n",
      "    \n",
      "    Returns:\n",
      "    Copy of input object, with longitudes shifted to the range lon_min to lon_min+360.\n",
      "\n"
     ]
    }
   ],
   "source": [
    "help(climapy.xr_shift_lon)"
   ]
  },
  {
   "cell_type": "code",
   "execution_count": 15,
   "metadata": {},
   "outputs": [
    {
     "name": "stdout",
     "output_type": "stream",
     "text": [
      "ds1 longitudes range from 0.0 to 357.5\n",
      "ds2 longitudes range from -180.0 to 177.5\n"
     ]
    },
    {
     "data": {
      "image/png": "[encoded data removed]",
      "text/plain": [
       "<matplotlib.figure.Figure at 0x15c14cac8>"
      ]
     },
     "metadata": {},
     "output_type": "display_data"
    }
   ],
   "source": [
    "# Example: display result of applying xr_shift_lon to a Dataset\n",
    "ds1 = f0_dict['input']\n",
    "print('ds1 longitudes range from {} to {}'.format(*ds1['lon'].values[[0, -1]]))\n",
    "ds2 = climapy.xr_shift_lon(ds1)\n",
    "print('ds2 longitudes range from {} to {}'.format(*ds2['lon'].values[[0, -1]]))\n",
    "# Plot\n",
    "fig, axs = plt.subplots(1, 2, figsize=(10, 4.5))\n",
    "for ax, ds, title in zip(axs, [ds1, ds2], ['ds1 (unshifted)', 'ds2 (longitudes shifted)']):\n",
    "    # Longitude and latitude values\n",
    "    lon, lat = ds['lon'].values, ds['lat'].values\n",
    "    lon0 = lon[0] - ((lon[1] - lon[0]) / 2.0)  # lower bound for first longitude bin\n",
    "    lat0 = lat[0] - ((lat[1] - lat[0]) / 2.0)  # pseudo lower bound for first latitude bin\n",
    "    # Set up map\n",
    "    bm = Basemap(llcrnrlat=-90.0, urcrnrlat=90.0, llcrnrlon=lon0, urcrnrlon=360.0+lon0, ax=ax)\n",
    "    bm.drawcoastlines(color='0.5')\n",
    "    bm.drawparallels([-60, -30, 0, 30, 60], labels=[0, 1, 0, 0], fontsize='small',\n",
    "                      color='0.5', linewidth=0.5)\n",
    "    bm.drawmeridians([-120, -60, 0, 60, 120], labels=[0, 0, 0, 1], fontsize='small',\n",
    "                      color='0.5', linewidth=0.5)\n",
    "    # Plot data and colour bar\n",
    "    data = ds.isel(time=0)['TS'] - 273.15  # surface temperature in degC\n",
    "    im = ax.imshow(data.values, extent=[lon0, 360+lon0, -lat0, lat0])\n",
    "    cbar = fig.colorbar(im, ax=ax, orientation='horizontal')\n",
    "    cbar.set_label('Surface temperature, $^\\circ$C')"
   ]
  },
  {
   "cell_type": "code",
   "execution_count": 16,
   "metadata": {
    "scrolled": true
   },
   "outputs": [
    {
     "name": "stdout",
     "output_type": "stream",
     "text": [
      "key = input\n",
      "  lon_min = -180.0\n",
      "    [start, end]: [0.0, 357.5] -> [-180.0, 177.5]; [min, max]: [0.0, 357.5] -> [-180.0, 177.5]\n",
      "    Equal to original before shifting back? False\n",
      "    Equal to original after shifting back? True\n",
      "  lon_min = -270.0\n",
      "    [start, end]: [0.0, 357.5] -> [-270.0, 87.5]; [min, max]: [0.0, 357.5] -> [-270.0, 87.5]\n",
      "    Equal to original before shifting back? False\n",
      "    Equal to original after shifting back? True\n",
      "  lon_min = 0.0\n",
      "    [start, end]: [0.0, 357.5] -> [0.0, 357.5]; [min, max]: [0.0, 357.5] -> [0.0, 357.5]\n",
      "    Equal to original before shifting back? True\n",
      "    Equal to original after shifting back? True\n",
      "key = shift_lon\n",
      "  lon_min = -180.0\n",
      "    [start, end]: [-180.0, 177.5] -> [-180.0, 177.5]; [min, max]: [-180.0, 177.5] -> [-180.0, 177.5]\n",
      "    Equal to original before shifting back? True\n",
      "    Equal to original after shifting back? True\n",
      "  lon_min = -270.0\n",
      "    [start, end]: [-180.0, 177.5] -> [-270.0, 87.5]; [min, max]: [-180.0, 177.5] -> [-270.0, 87.5]\n",
      "    Equal to original before shifting back? False\n",
      "    Equal to original after shifting back? True\n",
      "  lon_min = 0.0\n",
      "    [start, end]: [-180.0, 177.5] -> [0.0, 357.5]; [min, max]: [-180.0, 177.5] -> [0.0, 357.5]\n",
      "    Equal to original before shifting back? False\n",
      "    Equal to original after shifting back? True\n",
      "key = renamed\n",
      "  lon_min = -180.0\n",
      "    [start, end]: [0.0, 357.5] -> [-180.0, 177.5]; [min, max]: [0.0, 357.5] -> [-180.0, 177.5]\n",
      "    Equal to original before shifting back? False\n",
      "    Equal to original after shifting back? True\n",
      "  lon_min = -270.0\n",
      "    [start, end]: [0.0, 357.5] -> [-270.0, 87.5]; [min, max]: [0.0, 357.5] -> [-270.0, 87.5]\n",
      "    Equal to original before shifting back? False\n",
      "    Equal to original after shifting back? True\n",
      "  lon_min = 0.0\n",
      "    [start, end]: [0.0, 357.5] -> [0.0, 357.5]; [min, max]: [0.0, 357.5] -> [0.0, 357.5]\n",
      "    Equal to original before shifting back? True\n",
      "    Equal to original after shifting back? True\n",
      "key = reversed\n",
      "  lon_min = -180.0\n",
      "    [start, end]: [357.5, 0.0] -> [177.5, -180.0]; [min, max]: [0.0, 357.5] -> [-180.0, 177.5]\n",
      "    Equal to original before shifting back? False\n",
      "    Equal to original after shifting back? True\n",
      "  lon_min = -270.0\n",
      "    [start, end]: [357.5, 0.0] -> [87.5, -270.0]; [min, max]: [0.0, 357.5] -> [-270.0, 87.5]\n",
      "    Equal to original before shifting back? False\n",
      "    Equal to original after shifting back? True\n",
      "  lon_min = 0.0\n",
      "    [start, end]: [357.5, 0.0] -> [357.5, 0.0]; [min, max]: [0.0, 357.5] -> [0.0, 357.5]\n",
      "    Equal to original before shifting back? True\n",
      "    Equal to original after shifting back? True\n",
      "key = reversed_lon\n",
      "  lon_min = -180.0\n",
      "    [start, end]: [357.5, 0.0] -> [177.5, -180.0]; [min, max]: [0.0, 357.5] -> [-180.0, 177.5]\n",
      "    Equal to original before shifting back? False\n",
      "    Equal to original after shifting back? True\n",
      "  lon_min = -270.0\n",
      "    [start, end]: [357.5, 0.0] -> [87.5, -270.0]; [min, max]: [0.0, 357.5] -> [-270.0, 87.5]\n",
      "    Equal to original before shifting back? False\n",
      "    Equal to original after shifting back? True\n",
      "  lon_min = 0.0\n",
      "    [start, end]: [357.5, 0.0] -> [357.5, 0.0]; [min, max]: [0.0, 357.5] -> [0.0, 357.5]\n",
      "    Equal to original before shifting back? True\n",
      "    Equal to original after shifting back? True\n",
      "key = reversed_lat\n",
      "  lon_min = -180.0\n",
      "    [start, end]: [0.0, 357.5] -> [-180.0, 177.5]; [min, max]: [0.0, 357.5] -> [-180.0, 177.5]\n",
      "    Equal to original before shifting back? False\n",
      "    Equal to original after shifting back? True\n",
      "  lon_min = -270.0\n",
      "    [start, end]: [0.0, 357.5] -> [-270.0, 87.5]; [min, max]: [0.0, 357.5] -> [-270.0, 87.5]\n",
      "    Equal to original before shifting back? False\n",
      "    Equal to original after shifting back? True\n",
      "  lon_min = 0.0\n",
      "    [start, end]: [0.0, 357.5] -> [0.0, 357.5]; [min, max]: [0.0, 357.5] -> [0.0, 357.5]\n",
      "    Equal to original before shifting back? True\n",
      "    Equal to original after shifting back? True\n",
      "key = transposed\n",
      "  lon_min = -180.0\n",
      "    [start, end]: [0.0, 357.5] -> [-180.0, 177.5]; [min, max]: [0.0, 357.5] -> [-180.0, 177.5]\n",
      "    Equal to original before shifting back? False\n",
      "    Equal to original after shifting back? True\n",
      "  lon_min = -270.0\n",
      "    [start, end]: [0.0, 357.5] -> [-270.0, 87.5]; [min, max]: [0.0, 357.5] -> [-270.0, 87.5]\n",
      "    Equal to original before shifting back? False\n",
      "    Equal to original after shifting back? True\n",
      "  lon_min = 0.0\n",
      "    [start, end]: [0.0, 357.5] -> [0.0, 357.5]; [min, max]: [0.0, 357.5] -> [0.0, 357.5]\n",
      "    Equal to original before shifting back? True\n",
      "    Equal to original after shifting back? True\n",
      "key = irregular\n",
      "  lon_min = -180.0\n",
      "    [start, end]: [0.0, 357.5] -> [-180.0, 177.5]; [min, max]: [0.0, 357.5] -> [-180.0, 177.5]\n",
      "    Equal to original before shifting back? False\n",
      "    Equal to original after shifting back? True\n",
      "  lon_min = -270.0\n",
      "    [start, end]: [0.0, 357.5] -> [-267.5, 90.0]; [min, max]: [0.0, 357.5] -> [-267.5, 90.0]\n",
      "    Equal to original before shifting back? False\n",
      "    Equal to original after shifting back? False\n",
      "    Largest difference in lon values is 2.842170943040401e-14\n",
      "    Equal to original after re-indexing with tolerance? True\n",
      "  lon_min = 0.0\n",
      "    [start, end]: [0.0, 357.5] -> [0.0, 357.5]; [min, max]: [0.0, 357.5] -> [0.0, 357.5]\n",
      "    Equal to original before shifting back? True\n",
      "    Equal to original after shifting back? True\n",
      "key = strange\n",
      "  lon_min = -180.0\n",
      "    Encountered ValueError, as expected for \"strange\".\n",
      "  lon_min = -270.0\n",
      "    Encountered ValueError, as expected for \"strange\".\n",
      "  lon_min = 0.0\n",
      "    Encountered ValueError, as expected for \"strange\".\n"
     ]
    }
   ],
   "source": [
    "# Test 1: for Datasets, shift longitudes to a specified range then shift back\n",
    "for key in f0_dict.keys():\n",
    "    print('key = {}'.format(key))\n",
    "    if key == 'renamed':\n",
    "        lon_name = 'longitude'\n",
    "    else:\n",
    "        lon_name = 'lon'\n",
    "    for lon_min in [-180., -270., 0.]:  # try diff ranges\n",
    "        print('  lon_min = {}'.format(lon_min))\n",
    "        try:\n",
    "            # Shift longitudes\n",
    "            ds = climapy.xr_shift_lon(f0_dict[key], lon_min=lon_min, lon_name=lon_name)\n",
    "            # Print information about original and new longitude values\n",
    "            start_end_orig = tuple(f0_dict[key][lon_name].values[[0, -1]])  # original start and end lon values\n",
    "            min_max_orig = tuple(np.sort(f0_dict[key][lon_name].values)[[0, -1]])  # original min and max lon values\n",
    "            start_end_new = tuple(ds[lon_name].values[[0, -1]])  # new start and end lon values\n",
    "            min_max_new = tuple(np.sort(ds[lon_name].values)[[0, -1]])  # new min and max lon values\n",
    "            print('    [start, end]: [{:.1f}, {:.1f}] -> [{:.1f}, {:.1f}]; '\n",
    "                  '[min, max]: [{:.1f}, {:.1f}] -> [{:.1f}, {:.1f}]'.format(*start_end_orig, *start_end_new,\n",
    "                                                                            *min_max_orig, *min_max_new))\n",
    "            # Shift longitudes back and check whether equal to original\n",
    "            print('    Equal to original before shifting back? {}'.format(ds.equals(f0_dict[key])))\n",
    "            ds = climapy.xr_shift_lon(ds, lon_min=min_max_orig[0], lon_name=lon_name)\n",
    "            print('    Equal to original after shifting back? {}'.format(ds.equals(f0_dict[key])))\n",
    "            if not ds.equals(f0_dict[key]):\n",
    "                print('    Largest difference in lon values is '\n",
    "                      '{}'.format(np.max(np.abs(ds['lon'].values - f0_dict[key]['lon'].values))))\n",
    "                ds = ds.reindex_like(f0_dict[key], method='nearest', tolerance=1e-3)\n",
    "                print('    Equal to original after re-indexing with tolerance? '\n",
    "                      '{}'.format(ds.equals(f0_dict[key])))\n",
    "                if not ds.equals(f0_dict[key]):\n",
    "                    print('    PROBLEM: not equal to original after re-indexing with tolerance')\n",
    "        except ValueError:\n",
    "            if key == 'strange':\n",
    "                print('    Encountered ValueError, as expected for \"strange\".')\n",
    "            else:\n",
    "                print('    PROBLEM: encountered unexpected ValueError')"
   ]
  },
  {
   "cell_type": "code",
   "execution_count": 17,
   "metadata": {
    "scrolled": true
   },
   "outputs": [
    {
     "name": "stdout",
     "output_type": "stream",
     "text": [
      "key = input\n",
      "  lon_min = -180.0\n",
      "    [start, end]: [0.0, 357.5] -> [-180.0, 177.5]; [min, max]: [0.0, 357.5] -> [-180.0, 177.5]\n",
      "    Equal to original before shifting back? False\n",
      "    Equal to original after shifting back? True\n",
      "  lon_min = -270.0\n",
      "    [start, end]: [0.0, 357.5] -> [-270.0, 87.5]; [min, max]: [0.0, 357.5] -> [-270.0, 87.5]\n",
      "    Equal to original before shifting back? False\n",
      "    Equal to original after shifting back? True\n",
      "  lon_min = 0.0\n",
      "    [start, end]: [0.0, 357.5] -> [0.0, 357.5]; [min, max]: [0.0, 357.5] -> [0.0, 357.5]\n",
      "    Equal to original before shifting back? True\n",
      "    Equal to original after shifting back? True\n",
      "key = shift_lon\n",
      "  lon_min = -180.0\n",
      "    [start, end]: [-180.0, 177.5] -> [-180.0, 177.5]; [min, max]: [-180.0, 177.5] -> [-180.0, 177.5]\n",
      "    Equal to original before shifting back? True\n",
      "    Equal to original after shifting back? True\n",
      "  lon_min = -270.0\n",
      "    [start, end]: [-180.0, 177.5] -> [-270.0, 87.5]; [min, max]: [-180.0, 177.5] -> [-270.0, 87.5]\n",
      "    Equal to original before shifting back? False\n",
      "    Equal to original after shifting back? True\n",
      "  lon_min = 0.0\n",
      "    [start, end]: [-180.0, 177.5] -> [0.0, 357.5]; [min, max]: [-180.0, 177.5] -> [0.0, 357.5]\n",
      "    Equal to original before shifting back? False\n",
      "    Equal to original after shifting back? True\n",
      "key = renamed\n",
      "  lon_min = -180.0\n",
      "    [start, end]: [0.0, 357.5] -> [-180.0, 177.5]; [min, max]: [0.0, 357.5] -> [-180.0, 177.5]\n",
      "    Equal to original before shifting back? False\n",
      "    Equal to original after shifting back? True\n",
      "  lon_min = -270.0\n",
      "    [start, end]: [0.0, 357.5] -> [-270.0, 87.5]; [min, max]: [0.0, 357.5] -> [-270.0, 87.5]\n",
      "    Equal to original before shifting back? False\n",
      "    Equal to original after shifting back? True\n",
      "  lon_min = 0.0\n",
      "    [start, end]: [0.0, 357.5] -> [0.0, 357.5]; [min, max]: [0.0, 357.5] -> [0.0, 357.5]\n",
      "    Equal to original before shifting back? True\n",
      "    Equal to original after shifting back? True\n",
      "key = reversed\n",
      "  lon_min = -180.0\n",
      "    [start, end]: [357.5, 0.0] -> [177.5, -180.0]; [min, max]: [0.0, 357.5] -> [-180.0, 177.5]\n",
      "    Equal to original before shifting back? False\n",
      "    Equal to original after shifting back? True\n",
      "  lon_min = -270.0\n",
      "    [start, end]: [357.5, 0.0] -> [87.5, -270.0]; [min, max]: [0.0, 357.5] -> [-270.0, 87.5]\n",
      "    Equal to original before shifting back? False\n",
      "    Equal to original after shifting back? True\n",
      "  lon_min = 0.0\n",
      "    [start, end]: [357.5, 0.0] -> [357.5, 0.0]; [min, max]: [0.0, 357.5] -> [0.0, 357.5]\n",
      "    Equal to original before shifting back? True\n",
      "    Equal to original after shifting back? True\n",
      "key = reversed_lon\n",
      "  lon_min = -180.0\n",
      "    [start, end]: [357.5, 0.0] -> [177.5, -180.0]; [min, max]: [0.0, 357.5] -> [-180.0, 177.5]\n",
      "    Equal to original before shifting back? False\n",
      "    Equal to original after shifting back? True\n",
      "  lon_min = -270.0\n",
      "    [start, end]: [357.5, 0.0] -> [87.5, -270.0]; [min, max]: [0.0, 357.5] -> [-270.0, 87.5]\n",
      "    Equal to original before shifting back? False\n",
      "    Equal to original after shifting back? True\n",
      "  lon_min = 0.0\n",
      "    [start, end]: [357.5, 0.0] -> [357.5, 0.0]; [min, max]: [0.0, 357.5] -> [0.0, 357.5]\n",
      "    Equal to original before shifting back? True\n",
      "    Equal to original after shifting back? True\n",
      "key = reversed_lat\n",
      "  lon_min = -180.0\n",
      "    [start, end]: [0.0, 357.5] -> [-180.0, 177.5]; [min, max]: [0.0, 357.5] -> [-180.0, 177.5]\n",
      "    Equal to original before shifting back? False\n",
      "    Equal to original after shifting back? True\n",
      "  lon_min = -270.0\n",
      "    [start, end]: [0.0, 357.5] -> [-270.0, 87.5]; [min, max]: [0.0, 357.5] -> [-270.0, 87.5]\n",
      "    Equal to original before shifting back? False\n",
      "    Equal to original after shifting back? True\n",
      "  lon_min = 0.0\n",
      "    [start, end]: [0.0, 357.5] -> [0.0, 357.5]; [min, max]: [0.0, 357.5] -> [0.0, 357.5]\n",
      "    Equal to original before shifting back? True\n",
      "    Equal to original after shifting back? True\n",
      "key = transposed\n",
      "  lon_min = -180.0\n",
      "    [start, end]: [0.0, 357.5] -> [-180.0, 177.5]; [min, max]: [0.0, 357.5] -> [-180.0, 177.5]\n",
      "    Equal to original before shifting back? False\n",
      "    Equal to original after shifting back? True\n",
      "  lon_min = -270.0\n",
      "    [start, end]: [0.0, 357.5] -> [-270.0, 87.5]; [min, max]: [0.0, 357.5] -> [-270.0, 87.5]\n",
      "    Equal to original before shifting back? False\n",
      "    Equal to original after shifting back? True\n",
      "  lon_min = 0.0\n",
      "    [start, end]: [0.0, 357.5] -> [0.0, 357.5]; [min, max]: [0.0, 357.5] -> [0.0, 357.5]\n",
      "    Equal to original before shifting back? True\n",
      "    Equal to original after shifting back? True\n",
      "key = irregular\n",
      "  lon_min = -180.0\n",
      "    [start, end]: [0.0, 357.5] -> [-180.0, 177.5]; [min, max]: [0.0, 357.5] -> [-180.0, 177.5]\n",
      "    Equal to original before shifting back? False\n",
      "    Equal to original after shifting back? True\n",
      "  lon_min = -270.0\n",
      "    [start, end]: [0.0, 357.5] -> [-267.5, 90.0]; [min, max]: [0.0, 357.5] -> [-267.5, 90.0]\n",
      "    Equal to original before shifting back? False\n",
      "    Equal to original after shifting back? False\n",
      "    Largest difference in lon values is 2.842170943040401e-14\n",
      "    Equal to original after re-indexing with tolerance? True\n",
      "  lon_min = 0.0\n",
      "    [start, end]: [0.0, 357.5] -> [0.0, 357.5]; [min, max]: [0.0, 357.5] -> [0.0, 357.5]\n",
      "    Equal to original before shifting back? True\n",
      "    Equal to original after shifting back? True\n",
      "key = strange\n",
      "  lon_min = -180.0\n",
      "    Encountered ValueError, as expected for \"strange\".\n",
      "  lon_min = -270.0\n",
      "    Encountered ValueError, as expected for \"strange\".\n",
      "  lon_min = 0.0\n",
      "    Encountered ValueError, as expected for \"strange\".\n"
     ]
    }
   ],
   "source": [
    "# Test 2: for DataArrays, shift longitudes to a specified range then shift back\n",
    "for key in f0_dict.keys():\n",
    "    print('key = {}'.format(key))\n",
    "    if key == 'renamed':\n",
    "        lon_name = 'longitude'\n",
    "    else:\n",
    "        lon_name = 'lon'\n",
    "    for lon_min in [-180., -270., 0.]:  # try diff ranges\n",
    "        print('  lon_min = {}'.format(lon_min))\n",
    "        try:\n",
    "            # Shift longitudes\n",
    "            da = climapy.xr_shift_lon(f0_dict[key]['TS'], lon_min=lon_min, lon_name=lon_name)\n",
    "            # Print information about original and new longitude values\n",
    "            start_end_orig = tuple(f0_dict[key]['TS'][lon_name].values[[0, -1]])  # original start and end lon values\n",
    "            min_max_orig = tuple(np.sort(f0_dict[key]['TS'][lon_name].values)[[0, -1]])  # original min and max lon values\n",
    "            start_end_new = tuple(da[lon_name].values[[0, -1]])  # new start and end lon values\n",
    "            min_max_new = tuple(np.sort(da[lon_name].values)[[0, -1]])  # new min and max lon values\n",
    "            print('    [start, end]: [{:.1f}, {:.1f}] -> [{:.1f}, {:.1f}]; '\n",
    "                  '[min, max]: [{:.1f}, {:.1f}] -> [{:.1f}, {:.1f}]'.format(*start_end_orig, *start_end_new,\n",
    "                                                                            *min_max_orig, *min_max_new))\n",
    "            # Shift longitudes back and check whether equal to original\n",
    "            print('    Equal to original before shifting back? {}'.format(da.equals(f0_dict[key]['TS'])))\n",
    "            da = climapy.xr_shift_lon(da, lon_min=min_max_orig[0], lon_name=lon_name)\n",
    "            print('    Equal to original after shifting back? {}'.format(da.equals(f0_dict[key]['TS'])))\n",
    "            if not da.equals(f0_dict[key]['TS']):\n",
    "                print('    Largest difference in lon values is '\n",
    "                      '{}'.format(np.max(np.abs(da['lon'].values - f0_dict[key]['TS']['lon'].values))))\n",
    "                da = da.reindex_like(f0_dict[key]['TS'], method='nearest', tolerance=1e-3)\n",
    "                print('    Equal to original after re-indexing with tolerance? '\n",
    "                      '{}'.format(da.equals(f0_dict[key]['TS'])))\n",
    "                if not da.equals(f0_dict[key]['TS']):\n",
    "                    print('    PROBLEM: not equal to original after re-indexing with tolerance')\n",
    "        except ValueError:\n",
    "            if key == 'strange':\n",
    "                print('    Encountered ValueError, as expected for \"strange\".')\n",
    "            else:\n",
    "                print('    PROBLEM: encountered unexpected ValueError')"
   ]
  },
  {
   "cell_type": "markdown",
   "metadata": {},
   "source": [
    "## xr_area"
   ]
  },
  {
   "cell_type": "code",
   "execution_count": 18,
   "metadata": {},
   "outputs": [
    {
     "name": "stdout",
     "output_type": "stream",
     "text": [
      "Help on function xr_area in module climapy.climapy_xr:\n",
      "\n",
      "xr_area(xr_data, lon_name='lon', lat_name='lat')\n",
      "    Calculate grid-cell areas of an xarray Dataset or DataArray.\n",
      "    \n",
      "    Keyword arguments:\n",
      "    xr_data -- an xarray Dataset or DataArray, with lon and lat dimensions\n",
      "    lon_name -- the name of the longitude dimension and coordinate (default 'lon')\n",
      "    lat_name -- the name of the longitude dimension and coordinate (default 'lon')\n",
      "    \n",
      "    Returns:\n",
      "    xarray DataArray named 'area', containing grid-cell areas.\n",
      "\n"
     ]
    }
   ],
   "source": [
    "help(climapy.xr_area)"
   ]
  },
  {
   "cell_type": "code",
   "execution_count": 19,
   "metadata": {},
   "outputs": [
    {
     "name": "stdout",
     "output_type": "stream",
     "text": [
      "cdo gridarea:   0%\b\b\b\b  0%\b\b\b\b  1%\b\b\b\b  2%\b\b\b\b  3%\b\b\b\b  4%\b\b\b\b  5%\b\b\b\b  6%\b\b\b\b  7%\b\b\b\b  8%\b\b\b\b  9%\b\b\b\b 10%\b\b\b\b 11%\b\b\b\b 12%\b\b\b\b 13%\b\b\b\b 14%\b\b\b\b 15%\b\b\b\b 16%\b\b\b\b 17%\b\b\b\b 18%\b\b\b\b 19%\b\b\b\b 20%\b\b\b\b 21%\b\b\b\b 22%\b\b\b\b 23%\b\b\b\b 24%\b\b\b\b 25%\b\b\b\b 26%\b\b\b\b 27%\b\b\b\b 28%\b\b\b\b 29%\b\b\b\b 30%\b\b\b\b 31%\b\b\b\b 32%\b\b\b\b 33%\b\b\b\b 34%\b\b\b\b 35%\b\b\b\b 36%\b\b\b\b 37%\b\b\b\b 38%\b\b\b\b 39%\b\b\b\b 40%\b\b\b\b 41%\b\b\b\b 42%\b\b\b\b 43%\b\b\b\b 44%\b\b\b\b 45%\b\b\b\b 46%\b\b\b\b 47%\b\b\b\b 48%\b\b\b\b 49%\b\b\b\b 50%\b\b\b\b 51%\b\b\b\b 52%\b\b\b\b 53%\b\b\b\b 54%\b\b\b\b 55%\b\b\b\b 56%\b\b\b\b 57%\b\b\b\b 58%\b\b\b\b 59%\b\b\b\b 60%\b\b\b\b 61%\b\b\b\b 62%\b\b\b\b 63%\b\b\b\b 64%\b\b\b\b 65%\b\b\b\b 66%\b\b\b\b 67%\b\b\b\b 68%\b\b\b\b 69%\b\b\b\b 70%\b\b\b\b 71%\b\b\b\b 72%\b\b\b\b 73%\b\b\b\b 74%\b\b\b\b 75%\b\b\b\b 76%\b\b\b\b 77%\b\b\b\b 78%\b\b\b\b 79%\b\b\b\b 80%\b\b\b\b 81%\b\b\b\b 82%\b\b\b\b 83%\b\b\b\b 84%\b\b\b\b 85%\b\b\b\b 86%\b\b\b\b 87%\b\b\b\b 88%\b\b\b\b 89%\b\b\b\b 90%\b\b\b\b 91%\b\b\b\b 92%\b\b\b\b 93%\b\b\b\b 94%\b\b\b\b 95%\b\b\b\b 96%\b\b\b\b 97%\b\b\b\b 98%\b\b\b\b 99%\b\b\b\b100%\b \b\b \b\b \b\b \b\b \b\b \b\b \b\b \b\b \b\b \b\b \b\b \b\b \b\b \b\b \b\b \b\b \b\b \bcdo gridarea: Processed 21 variables ( 0.01s )\r\n"
     ]
    },
    {
     "data": {
      "text/plain": [
       "<xarray.DataArray 'cell_area' (lat: 96, lon: 144)>\n",
       "array([[  2.420179e+08,   2.420179e+08,   2.420179e+08, ...,   2.420179e+08,\n",
       "          2.420179e+08,   2.420179e+08],\n",
       "       [  1.935747e+09,   1.935747e+09,   1.935747e+09, ...,   1.935747e+09,\n",
       "          1.935747e+09,   1.935747e+09],\n",
       "       [  3.869384e+09,   3.869384e+09,   3.869384e+09, ...,   3.869384e+09,\n",
       "          3.869384e+09,   3.869384e+09],\n",
       "       ..., \n",
       "       [  3.869384e+09,   3.869384e+09,   3.869384e+09, ...,   3.869384e+09,\n",
       "          3.869384e+09,   3.869384e+09],\n",
       "       [  1.935747e+09,   1.935747e+09,   1.935747e+09, ...,   1.935747e+09,\n",
       "          1.935747e+09,   1.935747e+09],\n",
       "       [  2.420179e+08,   2.420179e+08,   2.420179e+08, ...,   2.420179e+08,\n",
       "          2.420179e+08,   2.420179e+08]])\n",
       "Coordinates:\n",
       "  * lon      (lon) float64 0.0 2.5 5.0 7.5 10.0 12.5 15.0 17.5 20.0 22.5 ...\n",
       "  * lat      (lat) float64 -90.0 -88.11 -86.21 -84.32 -82.42 -80.53 -78.63 ...\n",
       "Attributes:\n",
       "    standard_name:  area\n",
       "    long_name:      area of grid cell\n",
       "    units:          m2"
      ]
     },
     "execution_count": 19,
     "metadata": {},
     "output_type": "execute_result"
    }
   ],
   "source": [
    "# Use CDO to create reference data for testing purposes\n",
    "in_filename = data_dir + 'bb0_o2000.nc'\n",
    "out_filename = temp_dir + temp_pre + 'area.nc'\n",
    "!cdo gridarea {in_filename} {out_filename}\n",
    "# Load reference data\n",
    "cdo_area = xr.open_dataset(out_filename)['cell_area']  # load as DataArray\n",
    "cdo_area"
   ]
  },
  {
   "cell_type": "code",
   "execution_count": 20,
   "metadata": {},
   "outputs": [
    {
     "name": "stdout",
     "output_type": "stream",
     "text": [
      "Comparing to cdo gridarea result...\n",
      "Longitudes and latitudes equal.\n",
      "% differences range from -0.016% to 0.032%.\n",
      "Sum of cdo     result is 510064471909788m2.\n",
      "Sum of xr_area result is 510064471909788m2.\n",
      "The difference is 0m2.\n"
     ]
    }
   ],
   "source": [
    "# Test 1: Compare area calculated by xr_area with reference area calculated by CDO\n",
    "area = climapy.xr_area(f0_dict['input'])\n",
    "# Check if lon/lat coordinates identical\n",
    "print('Comparing to cdo gridarea result...')\n",
    "if climapy.xr_check_lon_lat_match(area, cdo_area):\n",
    "    print('Longitudes and latitudes equal.')\n",
    "else:\n",
    "    print('PROBLEM: longitudes and latitudes not equal.')\n",
    "# Check percentage difference\n",
    "perc = (area - cdo_area) / cdo_area * 100  # % difference\n",
    "print('% differences range from {:.3f}% to {:.3f}%.'.format(perc.values.min(), perc.values.max()))\n",
    "if np.abs(perc).max() > 0.1:\n",
    "    print('PROBLEM: largest % difference > +/-0.1%.')\n",
    "# Check sum (ie global total)\n",
    "print('Sum of cdo     result is {:.0f}m2.'.format(cdo_area.values.sum()))\n",
    "print('Sum of xr_area result is {:.0f}m2.'.format(area.values.sum()))\n",
    "print('The difference is {:.0f}m2.'.format(area.values.sum() - cdo_area.values.sum()))\n",
    "if (np.abs(area.values.sum() - cdo_area.values.sum()) / cdo_area.values.sum()) * 100 > 1e-4:\n",
    "    print('PROBLEM: relative difference > +/-0.0001%.')"
   ]
  },
  {
   "cell_type": "code",
   "execution_count": 21,
   "metadata": {},
   "outputs": [
    {
     "name": "stdout",
     "output_type": "stream",
     "text": [
      "Comparing to cdo gridarea result...\n",
      "key = input\n",
      "  Longitudes and latitudes equal.\n",
      "  % differences range from -0.016% to 0.032%.\n",
      "  Sum of xr_area result is 510064471909788m2.\n",
      "  The difference is 0m2.\n",
      "key = shift_lon\n",
      "  Longitudes and latitudes not equal.\n",
      "  % differences range from -0.016% to 0.032%.\n",
      "  Sum of xr_area result is 510064471909788m2.\n",
      "  The difference is 0m2.\n",
      "key = renamed\n",
      "  Skipping coord comparision for \"renamed\".\n",
      "  % differences range from -0.016% to 0.032%.\n",
      "  Sum of xr_area result is 510064471909788m2.\n",
      "  The difference is 0m2.\n",
      "key = reversed\n",
      "  Longitudes and latitudes not equal.\n",
      "  % differences range from -0.016% to 0.032%.\n",
      "  Sum of xr_area result is 510064471909788m2.\n",
      "  The difference is 0m2.\n",
      "key = reversed_lon\n",
      "  Longitudes and latitudes not equal.\n",
      "  % differences range from -0.016% to 0.032%.\n",
      "  Sum of xr_area result is 510064471909788m2.\n",
      "  The difference is 0m2.\n",
      "key = reversed_lat\n",
      "  Longitudes and latitudes not equal.\n",
      "  % differences range from -0.016% to 0.032%.\n",
      "  Sum of xr_area result is 510064471909788m2.\n",
      "  The difference is 0m2.\n",
      "key = transposed\n",
      "  Longitudes and latitudes equal.\n",
      "  % differences range from -0.016% to 0.032%.\n",
      "  Sum of xr_area result is 510064471909788m2.\n",
      "  The difference is 0m2.\n",
      "key = irregular\n",
      "  Longitudes and latitudes not equal.\n",
      "  % differences range from -1.070% to 0.927%.\n",
      "  Sum of xr_area result is 510044197951585m2.\n",
      "  The difference is -20273958203m2.\n",
      "key = strange\n",
      "  ValueError encountered, as expected for \"strange\".\n"
     ]
    },
    {
     "name": "stderr",
     "output_type": "stream",
     "text": [
      "/Users/grandey/lib/python/climapy/climapy_xr.py:152: UserWarning: Total area calculated differs from spherical Earth by -0.003974783447845829%\n",
      "  'spherical Earth by {}%'.format(perc_diff))\n"
     ]
    }
   ],
   "source": [
    "# Test 2: For Datasets, compare % differences and global totals\n",
    "print('Comparing to cdo gridarea result...')\n",
    "for key in f0_dict.keys():\n",
    "    try:\n",
    "        print('key = {}'.format(key))\n",
    "        if key == 'renamed':\n",
    "            lon_name, lat_name = 'longitude', 'latitude'\n",
    "        else:\n",
    "            lon_name, lat_name = 'lon', 'lat'\n",
    "        # Calculate area\n",
    "        area = climapy.xr_area(f0_dict[key], lon_name=lon_name, lat_name=lat_name)\n",
    "        # Compare lon-lat coords\n",
    "        if key != 'renamed':\n",
    "            if climapy.xr_check_lon_lat_match(area, cdo_area):\n",
    "                print('  Longitudes and latitudes equal.')\n",
    "            else:\n",
    "                print('  Longitudes and latitudes not equal.')\n",
    "        else:\n",
    "            print('  Skipping coord comparision for \"renamed\".')\n",
    "        # Look at % differences\n",
    "        perc = (area.values - cdo_area.values) / cdo_area.values * 100  # use np arrays since coords may not match\n",
    "        print('  % differences range from {:.3f}% to {:.3f}%.'.format(perc.min(), perc.max()))\n",
    "        if np.abs(perc).max() > 0.1 and key not in ['irregular', 'strange']:\n",
    "            print('  PROBLEM: largest % difference > +/-0.1%.')\n",
    "        # Check sum\n",
    "        print('  Sum of xr_area result is {:.0f}m2.'.format(area.values.sum()))\n",
    "        print('  The difference is {:.0f}m2.'.format(area.values.sum() - cdo_area.values.sum()))\n",
    "        if (np.abs(area.values.sum() - cdo_area.values.sum()) / cdo_area.values.sum()) * 100 > 1e-2:\n",
    "            print('  PROBLEM: relative difference > +/-0.01%.')\n",
    "    except ValueError:\n",
    "        if key == 'strange':\n",
    "            print('  ValueError encountered, as expected for \"strange\".')\n",
    "        else:\n",
    "            print('  PROBLEM: unexpected ValueError encountered.')"
   ]
  },
  {
   "cell_type": "code",
   "execution_count": 22,
   "metadata": {},
   "outputs": [
    {
     "name": "stdout",
     "output_type": "stream",
     "text": [
      "Comparing to cdo gridarea result...\n",
      "key = input\n",
      "  Longitudes and latitudes equal.\n",
      "  % differences range from -0.016% to 0.032%.\n",
      "  Sum of xr_area result is 510064471909788m2.\n",
      "  The difference is 0m2.\n",
      "key = shift_lon\n",
      "  Longitudes and latitudes not equal.\n",
      "  % differences range from -0.016% to 0.032%.\n",
      "  Sum of xr_area result is 510064471909788m2.\n",
      "  The difference is 0m2.\n",
      "key = renamed\n",
      "  Skipping coord comparision for \"renamed\".\n",
      "  % differences range from -0.016% to 0.032%.\n",
      "  Sum of xr_area result is 510064471909788m2.\n",
      "  The difference is 0m2.\n",
      "key = reversed\n",
      "  Longitudes and latitudes not equal.\n",
      "  % differences range from -0.016% to 0.032%.\n",
      "  Sum of xr_area result is 510064471909788m2.\n",
      "  The difference is 0m2.\n",
      "key = reversed_lon\n",
      "  Longitudes and latitudes not equal.\n",
      "  % differences range from -0.016% to 0.032%.\n",
      "  Sum of xr_area result is 510064471909788m2.\n",
      "  The difference is 0m2.\n",
      "key = reversed_lat\n",
      "  Longitudes and latitudes not equal.\n",
      "  % differences range from -0.016% to 0.032%.\n",
      "  Sum of xr_area result is 510064471909788m2.\n",
      "  The difference is 0m2.\n",
      "key = transposed\n",
      "  Longitudes and latitudes equal.\n",
      "  % differences range from -0.016% to 0.032%.\n",
      "  Sum of xr_area result is 510064471909788m2.\n",
      "  The difference is 0m2.\n",
      "key = irregular\n",
      "  Longitudes and latitudes not equal.\n",
      "  % differences range from -1.070% to 0.927%.\n",
      "  Sum of xr_area result is 510044197951585m2.\n",
      "  The difference is -20273958203m2.\n",
      "key = strange\n",
      "  ValueError encountered, as expected for \"strange\".\n"
     ]
    },
    {
     "name": "stderr",
     "output_type": "stream",
     "text": [
      "/Users/grandey/lib/python/climapy/climapy_xr.py:152: UserWarning: Total area calculated differs from spherical Earth by -0.003974783447845829%\n",
      "  'spherical Earth by {}%'.format(perc_diff))\n"
     ]
    }
   ],
   "source": [
    "# Test 3: For DataArrays, compare % differences and global totals\n",
    "print('Comparing to cdo gridarea result...')\n",
    "for key in f0_dict.keys():\n",
    "    try:\n",
    "        print('key = {}'.format(key))\n",
    "        if key == 'renamed':\n",
    "            lon_name, lat_name = 'longitude', 'latitude'\n",
    "        else:\n",
    "            lon_name, lat_name = 'lon', 'lat'\n",
    "        # Calculate area\n",
    "        area = climapy.xr_area(f0_dict[key]['TS'], lon_name=lon_name, lat_name=lat_name)\n",
    "        # Compare lon-lat coords\n",
    "        if key != 'renamed':\n",
    "            if climapy.xr_check_lon_lat_match(area, cdo_area):\n",
    "                print('  Longitudes and latitudes equal.')\n",
    "            else:\n",
    "                print('  Longitudes and latitudes not equal.')\n",
    "        else:\n",
    "            print('  Skipping coord comparision for \"renamed\".')\n",
    "        # Look at % differences\n",
    "        perc = (area.values - cdo_area.values) / cdo_area.values * 100  # use np arrays since coords may not match\n",
    "        print('  % differences range from {:.3f}% to {:.3f}%.'.format(perc.min(), perc.max()))\n",
    "        if np.abs(perc).max() > 0.1 and key not in ['irregular', 'strange']:\n",
    "            print('  PROBLEM: largest % difference > +/-0.1%.')\n",
    "        # Check sum\n",
    "        print('  Sum of xr_area result is {:.0f}m2.'.format(area.values.sum()))\n",
    "        print('  The difference is {:.0f}m2.'.format(area.values.sum() - cdo_area.values.sum()))\n",
    "        if (np.abs(area.values.sum() - cdo_area.values.sum()) / cdo_area.values.sum()) * 100 > 1e-2:\n",
    "            print('  PROBLEM: relative difference > +/-0.01%.')\n",
    "    except ValueError:\n",
    "        if key == 'strange':\n",
    "            print('  ValueError encountered, as expected for \"strange\".')\n",
    "        else:\n",
    "            print('  PROBLEM: unexpected ValueError encountered.')"
   ]
  },
  {
   "cell_type": "markdown",
   "metadata": {},
   "source": [
    "## xr_mask_bounds"
   ]
  },
  {
   "cell_type": "code",
   "execution_count": 23,
   "metadata": {},
   "outputs": [
    {
     "name": "stdout",
     "output_type": "stream",
     "text": [
      "Help on function xr_mask_bounds in module climapy.climapy_xr:\n",
      "\n",
      "xr_mask_bounds(xr_data, lon_bounds=(-180, 180), lat_bounds=(-90, 90), select_how='inside', lon_name='lon', lat_name='lat')\n",
      "    Select inside/outside specified region bounds, and mask elsewhere.\n",
      "    \n",
      "    Keyword arguments:\n",
      "    xr_data -- an xarray Dataset or DataArray, with longitude and latitude dimensions\n",
      "    lon_bounds -- tuple/list containing longitude bounds (default (-180, 180))\n",
      "    lat_bounds -- tuple/list containing latitude bounds (default (-90, 90))\n",
      "    select_how -- select data either 'inside' region (ie mask outside; default) or 'outside' region\n",
      "    lon_name -- the name of the longitude dimension and coordinate (default 'lon')\n",
      "    lat_name -- the name of the longitude dimension and coordinate (default 'lon')\n",
      "    \n",
      "    Returns:\n",
      "    Copy of input object, with masking applied.\n",
      "\n"
     ]
    }
   ],
   "source": [
    "help(climapy.xr_mask_bounds)"
   ]
  },
  {
   "cell_type": "code",
   "execution_count": 24,
   "metadata": {},
   "outputs": [
    {
     "data": {
      "text/plain": [
       "dict_keys(['EAs', 'SEAs', 'ANZ', 'SAs', 'AfME', 'Eur', 'CAs', 'NAm', 'SAm', 'Zon', 'Mer', 'Glb'])"
      ]
     },
     "execution_count": 24,
     "metadata": {},
     "output_type": "execute_result"
    }
   ],
   "source": [
    "# Region bounds dictionary for development/testing purposes\n",
    "region_bounds_dict = {'EAs': [(94, 156), (20, 65)],  # longitude tuple, latitude tuple\n",
    "                      'SEAs': [(94, 161), (-10, 20)],\n",
    "                      'ANZ': [(109, 179), (-50, -10)],\n",
    "                      'SAs': [(61, 94), (0, 35)],\n",
    "                      'AfME': [(-21, 61), (-40, 35)],\n",
    "                      'Eur': [(-26, 31), (35, 75)],\n",
    "                      'CAs': [(31, 94), (35, 75)],\n",
    "                      'NAm': [(-169, -51), (15, 75)],\n",
    "                      'SAm': [(266, 329), (-60, 15)],\n",
    "                      'Zon': [None, (-75.5, -65.5)],\n",
    "                      'Mer': [(175.5, 185.5), None],\n",
    "                      'Glb': [None, None]}\n",
    "region_bounds_dict.keys()"
   ]
  },
  {
   "cell_type": "code",
   "execution_count": 25,
   "metadata": {},
   "outputs": [
    {
     "data": {
      "image/png": "[encoded data removed]",
      "text/plain": [
       "<matplotlib.figure.Figure at 0x176a64a58>"
      ]
     },
     "metadata": {},
     "output_type": "display_data"
    }
   ],
   "source": [
    "# Example: map for select_how='inside'\n",
    "ds = f0_dict['shift_lon']\n",
    "lon, lat = ds['lon'].values, ds['lat'].values\n",
    "lon0 = lon[0] - ((lon[1] - lon[0]) / 2.0)  # lower bound for first longitude bin\n",
    "lat0 = lat[0] - ((lat[1] - lat[0]) / 2.0)  # pseudo lower bound for first latitude bin\n",
    "# Set-up map\n",
    "fig = plt.figure(figsize=(6, 4.5))\n",
    "bm = Basemap(llcrnrlat=-90.0, urcrnrlat=90.0, llcrnrlon=lon0, urcrnrlon=360.0+lon0)\n",
    "bm.drawcoastlines(color='0.5')\n",
    "bm.drawparallels([-60, -30, 0, 30, 60], labels=[0, 1, 0, 0], fontsize='small',\n",
    "                  color='0.5', linewidth=0.5)\n",
    "bm.drawmeridians([-120, -60, 0, 60, 120], labels=[0, 0, 0, 1], fontsize='small',\n",
    "                  color='0.5', linewidth=0.5)\n",
    "# Plot region masks and names\n",
    "for region, bounds in region_bounds_dict.items():\n",
    "    lon_bounds, lat_bounds = bounds\n",
    "    # Set colour map\n",
    "    if region in ['NAm', 'AfME', 'EAs']:  # shading colour dependent on region\n",
    "        cmap = 'Blues'\n",
    "    elif region in ['SAm', 'CAs', 'SEAs']:\n",
    "        cmap = 'Greens'\n",
    "    else:\n",
    "        cmap = 'Reds'\n",
    "    # Create data for region\n",
    "    data = ds.isel(time=0)['TS'].copy()\n",
    "    data[:] = 1\n",
    "    data = climapy.xr_mask_bounds(data, lon_bounds=lon_bounds, lat_bounds=lat_bounds,\n",
    "                                  select_how='inside')\n",
    "    # Plot data and annotation\n",
    "    if region != 'Glb':\n",
    "        im = plt.imshow(data, extent=[lon0, lon0+360, -lat0, lat0],\n",
    "                        interpolation='Nearest', cmap=cmap,\n",
    "                        vmin=0, vmax=4)\n",
    "        if lon_bounds and lat_bounds:\n",
    "            label_pos = [(lon_bounds[0]+lon_bounds[1])/2,\n",
    "                         (lat_bounds[0]+lat_bounds[1])/2]\n",
    "            if label_pos[0] > 180:\n",
    "                label_pos[0] -= 360\n",
    "            plt.text(label_pos[0], label_pos[1], region,\n",
    "                     color='k', weight='bold', fontsize='large',\n",
    "                     horizontalalignment='center', verticalalignment='center')"
   ]
  },
  {
   "cell_type": "code",
   "execution_count": 26,
   "metadata": {},
   "outputs": [
    {
     "data": {
      "image/png": "[encoded data removed]",
      "text/plain": [
       "<matplotlib.figure.Figure at 0x176a64908>"
      ]
     },
     "metadata": {},
     "output_type": "display_data"
    }
   ],
   "source": [
    "# Example: maps for select_how='outside'\n",
    "ds = f0_dict['shift_lon']\n",
    "lon, lat = ds['lon'].values, ds['lat'].values\n",
    "lon0 = lon[0] - ((lon[1] - lon[0]) / 2.0)  # lower bound for first longitude bin\n",
    "lat0 = lat[0] - ((lat[1] - lat[0]) / 2.0)  # pseudo lower bound for first latitude bin\n",
    "# Loop over subfigures\n",
    "fig, axs = plt.subplots(1, 3, figsize=(15, 4.5))\n",
    "for ax, region in zip(axs, ['AfME', 'Zon', 'Mer']):\n",
    "    # Set up map\n",
    "    bm = Basemap(llcrnrlat=-90.0, urcrnrlat=90.0, llcrnrlon=lon0, urcrnrlon=360.0+lon0, ax=ax)\n",
    "    bm.drawcoastlines(color='0.5')\n",
    "    bm.drawparallels([-60, -30, 0, 30, 60], labels=[0, 1, 0, 0], fontsize='small',\n",
    "                      color='0.5', linewidth=0.5)\n",
    "    bm.drawmeridians([-120, -60, 0, 60, 120], labels=[0, 0, 0, 1], fontsize='small',\n",
    "                      color='0.5', linewidth=0.5)\n",
    "    # Create data for region\n",
    "    lon_bounds, lat_bounds = region_bounds_dict[region]\n",
    "    data = ds.isel(time=0)['TS'].copy()\n",
    "    data[:] = 1\n",
    "    data = climapy.xr_mask_bounds(data, lon_bounds=lon_bounds, lat_bounds=lat_bounds,\n",
    "                                  select_how='outside')\n",
    "    # Plot data\n",
    "    im = ax.imshow(data, extent=[lon0, 360+lon0, -lat0, lat0],\n",
    "                   interpolation='Nearest')\n",
    "    ax.text(0, 100, region, fontsize='large', horizontalalignment='center', verticalalignment='center')"
   ]
  },
  {
   "cell_type": "code",
   "execution_count": 27,
   "metadata": {
    "collapsed": true
   },
   "outputs": [],
   "source": [
    "# Use CDO to create reference data for testing purposes\n",
    "cdo_dict = {}  # dictionary in which to store reference data\n",
    "in_filename = data_dir + 'bb0_o2000.nc'\n",
    "for region, bounds in region_bounds_dict.items():\n",
    "    out_filename = temp_dir + temp_pre + region + '.nc'\n",
    "    lon_bounds, lat_bounds = bounds\n",
    "    if lon_bounds == None:\n",
    "        lon_bounds = (-180, 180)\n",
    "    if lat_bounds == None:\n",
    "        lat_bounds = (-90, 90)\n",
    "    bounds_str = ','.join([str(x) for x in lon_bounds+lat_bounds])\n",
    "    !cdo sellonlatbox,{bounds_str} {in_filename} {out_filename} &> /dev/null\n",
    "    # Load reference data\n",
    "    cdo_dict[region] = xr.open_dataset(out_filename, decode_times=False, drop_variables=drop_list).isel(time=slice(60))"
   ]
  },
  {
   "cell_type": "code",
   "execution_count": 28,
   "metadata": {},
   "outputs": [
    {
     "name": "stdout",
     "output_type": "stream",
     "text": [
      "Comparing to cdo sellonlatbox result...\n",
      "EAs\n",
      "  lon / lat coords equal.\n",
      "  xr_region_bounds result equals cdo result.\n",
      "SEAs\n",
      "  lon / lat coords equal.\n",
      "  xr_region_bounds result equals cdo result.\n",
      "ANZ\n",
      "  lon / lat coords equal.\n",
      "  xr_region_bounds result equals cdo result.\n",
      "SAs\n",
      "  lon / lat coords equal.\n",
      "  xr_region_bounds result equals cdo result.\n",
      "AfME\n",
      "  lon / lat coords not equal. Applying xr_shift_lon.\n",
      "  Coords now equal.\n",
      "  xr_region_bounds result equals cdo result.\n",
      "Eur\n",
      "  lon / lat coords not equal. Applying xr_shift_lon.\n",
      "  Coords now equal.\n",
      "  xr_region_bounds result equals cdo result.\n",
      "CAs\n",
      "  lon / lat coords equal.\n",
      "  xr_region_bounds result equals cdo result.\n",
      "NAm\n",
      "  lon / lat coords equal.\n",
      "  xr_region_bounds result equals cdo result.\n",
      "SAm\n",
      "  lon / lat coords equal.\n",
      "  xr_region_bounds result equals cdo result.\n",
      "Zon\n",
      "  lon / lat coords not equal. Applying xr_shift_lon.\n",
      "  Coords now equal.\n",
      "  xr_region_bounds result equals cdo result.\n",
      "Mer\n",
      "  lon / lat coords equal.\n",
      "  xr_region_bounds result equals cdo result.\n",
      "Glb\n",
      "  lon / lat coords not equal. Applying xr_shift_lon.\n",
      "  Coords now equal.\n",
      "  xr_region_bounds result equals cdo result.\n"
     ]
    }
   ],
   "source": [
    "# Test 1: Compare data masked by xr_mask_bounds with reference data masked by CDO\n",
    "print('Comparing to cdo sellonlatbox result...')\n",
    "for region, bounds in region_bounds_dict.items():\n",
    "    print(region)\n",
    "    lon_bounds, lat_bounds = bounds\n",
    "    data = climapy.xr_mask_bounds(f0_dict['input']['TS'], lon_bounds=lon_bounds, lat_bounds=lat_bounds,\n",
    "                                  select_how='inside')\n",
    "    data = data.dropna(dim='lon', how='all').dropna(dim='lat', how='all')  # select just region using dropna\n",
    "    # Compare longitude and latitude\n",
    "    if climapy.xr_check_lon_lat_match(data, cdo_dict[region]['TS']):\n",
    "        print('  lon / lat coords equal.')\n",
    "    else:\n",
    "        print('  lon / lat coords not equal. Applying xr_shift_lon.')\n",
    "        data = climapy.xr_shift_lon(data, lon_min=-180.)\n",
    "        if climapy.xr_check_lon_lat_match(data, cdo_dict[region]['TS']):\n",
    "            print('  Coords now equal.')\n",
    "        else:\n",
    "            print('  PROBLEM: coords still not equal.')\n",
    "            print('  [start, end] lon values are '\n",
    "                  '[{}, {}] and [{}, {}]'.format(*data['lon'].values[[0, -1]],\n",
    "                                                 *cdo_dict[region]['TS']['lon'].values[[0, -1]]))\n",
    "    if data.equals(cdo_dict[region]['TS']):\n",
    "        print('  xr_region_bounds result equals cdo result.')\n",
    "    else:\n",
    "        print('  PROBLEM: xr_region_bounds result does not equal cdo result.')"
   ]
  },
  {
   "cell_type": "markdown",
   "metadata": {},
   "source": [
    "## xr_area_weighted_stat"
   ]
  },
  {
   "cell_type": "code",
   "execution_count": 29,
   "metadata": {},
   "outputs": [
    {
     "name": "stdout",
     "output_type": "stream",
     "text": [
      "Help on function xr_area_weighted_stat in module climapy.climapy_xr:\n",
      "\n",
      "xr_area_weighted_stat(xr_data, stat='mean', lon_bounds=None, lat_bounds=None, lon_name='lon', lat_name='lat')\n",
      "    Calculate area-weighted mean or sum across globe (default) or a specified region.\n",
      "    \n",
      "    Keyword arguments:\n",
      "    xr_data -- an xarray Dataset or DataArray, with longitude and latitude dimensions\n",
      "    stat -- statistic to calculate, either 'mean' (default) or 'sum'\n",
      "    lon_bounds -- tuple/list containing longitude bounds (default None)\n",
      "    lat_bounds -- tuple/list containing latitude bounds (default None)\n",
      "    lon_name -- the name of the longitude dimension and coordinate (default 'lon')\n",
      "    lat_name -- the name of the longitude dimension and coordinate (default 'lon')\n",
      "    \n",
      "    Returns:\n",
      "    Area-weighted mean or sum as an xarray Dataset or DataArray\n",
      "\n"
     ]
    }
   ],
   "source": [
    "help(climapy.xr_area_weighted_stat)"
   ]
  },
  {
   "cell_type": "code",
   "execution_count": 30,
   "metadata": {
    "collapsed": true
   },
   "outputs": [],
   "source": [
    "# Use CDO to create reference data for testing purposes - mean\n",
    "cdo_dict = {}  # dictionary in which to store reference data\n",
    "in_filename = data_dir + 'bb0_o2000.nc'\n",
    "for region, bounds in region_bounds_dict.items():\n",
    "    out_filename = temp_dir + temp_pre + region + '.nc'\n",
    "    lon_bounds, lat_bounds = bounds\n",
    "    if lon_bounds == None:\n",
    "        lon_bounds = (-180, 180)\n",
    "    if lat_bounds == None:\n",
    "        lat_bounds = (-90, 90)\n",
    "    bounds_str = ','.join([str(x) for x in lon_bounds+lat_bounds])\n",
    "    !cdo fldmean -sellonlatbox,{bounds_str} {in_filename} {out_filename} &> /dev/null\n",
    "    # Load reference data\n",
    "    cdo_dict[region] = xr.open_dataset(out_filename, decode_times=False, drop_variables=drop_list).isel(time=slice(60))"
   ]
  },
  {
   "cell_type": "code",
   "execution_count": 31,
   "metadata": {},
   "outputs": [
    {
     "name": "stdout",
     "output_type": "stream",
     "text": [
      "Comparing to cdo fldmean -sellonlatbox result, using \"TS\" ...\n",
      "region = EAs\n",
      "  CDO result:   nt = 60, mean = 9.70699\n",
      "  input         nt = 60, mean = 9.70599, % differences range from -0.0007% to -0.0001%.\n",
      "  shift_lon     nt = 60, mean = 9.70599, % differences range from -0.0007% to -0.0001%.\n",
      "  renamed       nt = 60, mean = 9.70599, % differences range from -0.0007% to -0.0001%.\n",
      "  reversed      nt = 60, mean = 9.70599, % differences range from -0.0007% to -0.0001%.\n",
      "  reversed_lon  nt = 60, mean = 9.70599, % differences range from -0.0007% to -0.0001%.\n",
      "  reversed_lat  nt = 60, mean = 9.70599, % differences range from -0.0007% to -0.0001%.\n",
      "  transposed    nt = 60, mean = 9.70599, % differences range from -0.0007% to -0.0001%.\n",
      "  irregular     nt = 60, mean = 9.70548, % differences range from -0.0009% to -0.0002%.\n",
      "  \"strange\": ValueError encountered, as expected.\n",
      "region = SEAs\n",
      "  CDO result:   nt = 60, mean = 28.10345\n",
      "  input         nt = 60, mean = 28.10344, % differences range from -0.0000% to 0.0000%.\n",
      "  shift_lon     nt = 60, mean = 28.10344, % differences range from -0.0000% to 0.0000%.\n",
      "  renamed       nt = 60, mean = 28.10344, % differences range from -0.0000% to 0.0000%.\n",
      "  reversed      nt = 60, mean = 28.10344, % differences range from -0.0000% to 0.0000%.\n"
     ]
    },
    {
     "name": "stderr",
     "output_type": "stream",
     "text": [
      "/Users/grandey/lib/python/climapy/climapy_xr.py:152: UserWarning: Total area calculated differs from spherical Earth by -0.003974783447845829%\n",
      "  'spherical Earth by {}%'.format(perc_diff))\n",
      "/Users/grandey/lib/python/climapy/climapy_xr.py:201: UserWarning: Input and output lon/lat coordinates not equal. Attempting to reindex.\n",
      "  warnings.warn('Input and output lon/lat coordinates not equal. Attempting to reindex.')\n"
     ]
    },
    {
     "name": "stdout",
     "output_type": "stream",
     "text": [
      "  reversed_lon  nt = 60, mean = 28.10344, % differences range from -0.0000% to 0.0000%.\n",
      "  reversed_lat  nt = 60, mean = 28.10344, % differences range from -0.0000% to 0.0000%.\n",
      "  transposed    nt = 60, mean = 28.10344, % differences range from -0.0000% to 0.0000%.\n",
      "  irregular     nt = 60, mean = 28.10331, % differences range from -0.0002% to 0.0001%.\n",
      "  \"strange\": ValueError encountered, as expected.\n",
      "region = ANZ\n",
      "  CDO result:   nt = 60, mean = 21.22512\n",
      "  input         nt = 60, mean = 21.22463, % differences range from -0.0002% to -0.0001%.\n",
      "  shift_lon     nt = 60, mean = 21.22463, % differences range from -0.0002% to -0.0001%.\n",
      "  renamed       nt = 60, mean = 21.22463, % differences range from -0.0002% to -0.0001%.\n",
      "  reversed      nt = 60, mean = 21.22463, % differences range from -0.0002% to -0.0001%.\n",
      "  reversed_lon  nt = 60, mean = 21.22463, % differences range from -0.0002% to -0.0001%.\n"
     ]
    },
    {
     "name": "stderr",
     "output_type": "stream",
     "text": [
      "/Users/grandey/lib/python/climapy/climapy_xr.py:152: UserWarning: Total area calculated differs from spherical Earth by -0.003974783447845829%\n",
      "  'spherical Earth by {}%'.format(perc_diff))\n",
      "/Users/grandey/lib/python/climapy/climapy_xr.py:201: UserWarning: Input and output lon/lat coordinates not equal. Attempting to reindex.\n",
      "  warnings.warn('Input and output lon/lat coordinates not equal. Attempting to reindex.')\n"
     ]
    },
    {
     "name": "stdout",
     "output_type": "stream",
     "text": [
      "  reversed_lat  nt = 60, mean = 21.22463, % differences range from -0.0002% to -0.0001%.\n",
      "  transposed    nt = 60, mean = 21.22463, % differences range from -0.0002% to -0.0001%.\n",
      "  irregular     nt = 60, mean = 21.22278, % differences range from -0.0011% to -0.0004%.\n",
      "  \"strange\": ValueError encountered, as expected.\n",
      "region = SAs\n",
      "  CDO result:   nt = 60, mean = 25.23702\n",
      "  input         nt = 60, mean = 25.23681, % differences range from -0.0002% to -0.0000%.\n",
      "  shift_lon     nt = 60, mean = 25.23681, % differences range from -0.0002% to -0.0000%.\n",
      "  renamed       nt = 60, mean = 25.23681, % differences range from -0.0002% to -0.0000%.\n",
      "  reversed      nt = 60, mean = 25.23681, % differences range from -0.0002% to -0.0000%.\n"
     ]
    },
    {
     "name": "stderr",
     "output_type": "stream",
     "text": [
      "/Users/grandey/lib/python/climapy/climapy_xr.py:152: UserWarning: Total area calculated differs from spherical Earth by -0.003974783447845829%\n",
      "  'spherical Earth by {}%'.format(perc_diff))\n",
      "/Users/grandey/lib/python/climapy/climapy_xr.py:201: UserWarning: Input and output lon/lat coordinates not equal. Attempting to reindex.\n",
      "  warnings.warn('Input and output lon/lat coordinates not equal. Attempting to reindex.')\n"
     ]
    },
    {
     "name": "stdout",
     "output_type": "stream",
     "text": [
      "  reversed_lon  nt = 60, mean = 25.23681, % differences range from -0.0002% to -0.0000%.\n",
      "  reversed_lat  nt = 60, mean = 25.23681, % differences range from -0.0002% to -0.0000%.\n",
      "  transposed    nt = 60, mean = 25.23681, % differences range from -0.0002% to -0.0000%.\n",
      "  irregular     nt = 60, mean = 25.23765, % differences range from -0.0005% to 0.0009%.\n",
      "  \"strange\": ValueError encountered, as expected.\n",
      "region = AfME\n",
      "  CDO result:   nt = 60, mean = 24.03347\n",
      "  input         nt = 60, mean = 24.03339, % differences range from -0.0001% to -0.0000%.\n",
      "  shift_lon     nt = 60, mean = 24.03339, % differences range from -0.0001% to -0.0000%.\n",
      "  renamed       nt = 60, mean = 24.03339, % differences range from -0.0001% to -0.0000%.\n"
     ]
    },
    {
     "name": "stderr",
     "output_type": "stream",
     "text": [
      "/Users/grandey/lib/python/climapy/climapy_xr.py:152: UserWarning: Total area calculated differs from spherical Earth by -0.003974783447845829%\n",
      "  'spherical Earth by {}%'.format(perc_diff))\n",
      "/Users/grandey/lib/python/climapy/climapy_xr.py:201: UserWarning: Input and output lon/lat coordinates not equal. Attempting to reindex.\n",
      "  warnings.warn('Input and output lon/lat coordinates not equal. Attempting to reindex.')\n"
     ]
    },
    {
     "name": "stdout",
     "output_type": "stream",
     "text": [
      "  reversed      nt = 60, mean = 24.03339, % differences range from -0.0001% to -0.0000%.\n",
      "  reversed_lon  nt = 60, mean = 24.03339, % differences range from -0.0001% to -0.0000%.\n",
      "  reversed_lat  nt = 60, mean = 24.03339, % differences range from -0.0001% to -0.0000%.\n",
      "  transposed    nt = 60, mean = 24.03339, % differences range from -0.0001% to -0.0000%.\n",
      "  irregular     nt = 60, mean = 24.03393, % differences range from -0.0001% to 0.0003%.\n",
      "  \"strange\": ValueError encountered, as expected.\n",
      "region = Eur\n",
      "  CDO result:   nt = 60, mean = 11.52679\n",
      "  input         nt = 60, mean = 11.52626, % differences range from -0.0002% to -0.0002%.\n",
      "  shift_lon     nt = 60, mean = 11.52626, % differences range from -0.0002% to -0.0002%.\n"
     ]
    },
    {
     "name": "stderr",
     "output_type": "stream",
     "text": [
      "/Users/grandey/lib/python/climapy/climapy_xr.py:152: UserWarning: Total area calculated differs from spherical Earth by -0.003974783447845829%\n",
      "  'spherical Earth by {}%'.format(perc_diff))\n"
     ]
    },
    {
     "name": "stdout",
     "output_type": "stream",
     "text": [
      "  renamed       nt = 60, mean = 11.52626, % differences range from -0.0002% to -0.0002%.\n",
      "  reversed      nt = 60, mean = 11.52626, % differences range from -0.0002% to -0.0002%.\n",
      "  reversed_lon  nt = 60, mean = 11.52626, % differences range from -0.0002% to -0.0002%.\n",
      "  reversed_lat  nt = 60, mean = 11.52626, % differences range from -0.0002% to -0.0002%.\n",
      "  transposed    nt = 60, mean = 11.52626, % differences range from -0.0002% to -0.0002%.\n",
      "  irregular     nt = 60, mean = 11.52733, % differences range from 0.0001% to 0.0003%.\n",
      "  \"strange\": ValueError encountered, as expected.\n",
      "region = CAs\n",
      "  CDO result:   nt = 60, mean = 5.51013\n",
      "  input         nt = 60, mean = 5.50956, % differences range from -0.0003% to -0.0001%."
     ]
    },
    {
     "name": "stderr",
     "output_type": "stream",
     "text": [
      "/Users/grandey/lib/python/climapy/climapy_xr.py:152: UserWarning: Total area calculated differs from spherical Earth by -0.003974783447845829%\n",
      "  'spherical Earth by {}%'.format(perc_diff))\n"
     ]
    },
    {
     "name": "stdout",
     "output_type": "stream",
     "text": [
      "\n",
      "  shift_lon     nt = 60, mean = 5.50956, % differences range from -0.0003% to -0.0001%.\n",
      "  renamed       nt = 60, mean = 5.50956, % differences range from -0.0003% to -0.0001%.\n",
      "  reversed      nt = 60, mean = 5.50956, % differences range from -0.0003% to -0.0001%.\n",
      "  reversed_lon  nt = 60, mean = 5.50956, % differences range from -0.0003% to -0.0001%.\n",
      "  reversed_lat  nt = 60, mean = 5.50956, % differences range from -0.0003% to -0.0001%.\n",
      "  transposed    nt = 60, mean = 5.50956, % differences range from -0.0003% to -0.0001%.\n",
      "  irregular     nt = 60, mean = 5.50921, % differences range from -0.0008% to 0.0001%.\n",
      "  \"strange\": ValueError encountered, as expected.\n",
      "region = NAm\n",
      "  CDO result:   nt = 60, mean = 12.08889\n",
      "  input         nt = 60, mean = 12.08732, % differences range from -0.0009% to -0.0003%.\n",
      "  shift_lon     nt = 60, mean = 12.08732, % differences range from -0.0009% to -0.0003%.\n",
      "  renamed       nt = 60, mean = 12.08732, % differences range from -0.0009% to -0.0003%.\n",
      "  reversed      nt = 60, mean = 12.08732, % differences range from -0.0009% to -0.0003%.\n",
      "  reversed_lon  nt = 60, mean = 12.08732, % differences range from -0.0009% to -0.0003%.\n"
     ]
    },
    {
     "name": "stderr",
     "output_type": "stream",
     "text": [
      "/Users/grandey/lib/python/climapy/climapy_xr.py:152: UserWarning: Total area calculated differs from spherical Earth by -0.003974783447845829%\n",
      "  'spherical Earth by {}%'.format(perc_diff))\n",
      "/Users/grandey/lib/python/climapy/climapy_xr.py:201: UserWarning: Input and output lon/lat coordinates not equal. Attempting to reindex.\n",
      "  warnings.warn('Input and output lon/lat coordinates not equal. Attempting to reindex.')\n"
     ]
    },
    {
     "name": "stdout",
     "output_type": "stream",
     "text": [
      "  reversed_lat  nt = 60, mean = 12.08732, % differences range from -0.0009% to -0.0003%.\n",
      "  transposed    nt = 60, mean = 12.08732, % differences range from -0.0009% to -0.0003%.\n",
      "  irregular     nt = 60, mean = 12.08667, % differences range from -0.0012% to -0.0004%.\n",
      "  \"strange\": ValueError encountered, as expected.\n",
      "region = SAm\n",
      "  CDO result:   nt = 60, mean = 20.20098\n",
      "  input         nt = 60, mean = 20.20025, % differences range from -0.0003% to -0.0002%.\n",
      "  shift_lon     nt = 60, mean = 20.20025, % differences range from -0.0003% to -0.0002%.\n",
      "  renamed       nt = 60, mean = 20.20025, % differences range from -0.0003% to -0.0002%.\n",
      "  reversed      nt = 60, mean = 20.20025, % differences range from -0.0003% to -0.0002%.\n"
     ]
    },
    {
     "name": "stderr",
     "output_type": "stream",
     "text": [
      "/Users/grandey/lib/python/climapy/climapy_xr.py:152: UserWarning: Total area calculated differs from spherical Earth by -0.003974783447845829%\n",
      "  'spherical Earth by {}%'.format(perc_diff))\n"
     ]
    },
    {
     "name": "stdout",
     "output_type": "stream",
     "text": [
      "  reversed_lon  nt = 60, mean = 20.20025, % differences range from -0.0003% to -0.0002%.\n",
      "  reversed_lat  nt = 60, mean = 20.20025, % differences range from -0.0003% to -0.0002%.\n",
      "  transposed    nt = 60, mean = 20.20025, % differences range from -0.0003% to -0.0002%.\n",
      "  irregular     nt = 60, mean = 20.20001, % differences range from -0.0004% to -0.0002%.\n",
      "  \"strange\": ValueError encountered, as expected.\n",
      "region = Zon\n",
      "  CDO result:   nt = 60, mean = -24.63064\n",
      "  input         nt = 60, mean = -24.63074, % differences range from -0.0001% to -0.0000%.\n",
      "  shift_lon     nt = 60, mean = -24.63074, % differences range from -0.0001% to -0.0000%.\n",
      "  renamed       nt = 60, mean = -24.63074, % differences range from -0.0001% to -0.0000%.\n",
      "  reversed      nt = 60, mean = -24.63074, % differences range from -0.0001% to -0.0000%.\n",
      "  reversed_lon  nt = 60, mean = -24.63074, % differences range from -0.0001% to -0.0000%.\n"
     ]
    },
    {
     "name": "stderr",
     "output_type": "stream",
     "text": [
      "/Users/grandey/lib/python/climapy/climapy_xr.py:152: UserWarning: Total area calculated differs from spherical Earth by -0.003974783447845829%\n",
      "  'spherical Earth by {}%'.format(perc_diff))\n",
      "/Users/grandey/lib/python/climapy/climapy_xr.py:201: UserWarning: Input and output lon/lat coordinates not equal. Attempting to reindex.\n",
      "  warnings.warn('Input and output lon/lat coordinates not equal. Attempting to reindex.')\n"
     ]
    },
    {
     "name": "stdout",
     "output_type": "stream",
     "text": [
      "  reversed_lat  nt = 60, mean = -24.63074, % differences range from -0.0001% to -0.0000%.\n",
      "  transposed    nt = 60, mean = -24.63074, % differences range from -0.0001% to -0.0000%.\n",
      "  irregular     nt = 60, mean = -24.61347, % differences range from 0.0044% to 0.0103%.\n",
      "  \"strange\": ValueError encountered, as expected.\n",
      "region = Mer\n",
      "  CDO result:   nt = 60, mean = 16.39843\n",
      "  input         nt = 60, mean = 16.39647, % differences range from -0.0007% to -0.0006%.\n",
      "  shift_lon     nt = 60, mean = 16.39647, % differences range from -0.0007% to -0.0006%.\n",
      "  renamed       nt = 60, mean = 16.39647, % differences range from -0.0007% to -0.0006%.\n",
      "  reversed      nt = 60, mean = 16.39647, % differences range from -0.0007% to -0.0006%.\n"
     ]
    },
    {
     "name": "stderr",
     "output_type": "stream",
     "text": [
      "/Users/grandey/lib/python/climapy/climapy_xr.py:152: UserWarning: Total area calculated differs from spherical Earth by -0.003974783447845829%\n",
      "  'spherical Earth by {}%'.format(perc_diff))\n"
     ]
    },
    {
     "name": "stdout",
     "output_type": "stream",
     "text": [
      "  reversed_lon  nt = 60, mean = 16.39647, % differences range from -0.0007% to -0.0006%.\n",
      "  reversed_lat  nt = 60, mean = 16.39647, % differences range from -0.0007% to -0.0006%.\n",
      "  transposed    nt = 60, mean = 16.39647, % differences range from -0.0007% to -0.0006%.\n",
      "  irregular     nt = 60, mean = 16.39611, % differences range from -0.0009% to -0.0007%.\n",
      "  \"strange\": ValueError encountered, as expected.\n",
      "region = Glb\n",
      "  CDO result:   nt = 60, mean = 14.80111\n",
      "  input         nt = 60, mean = 14.79906, % differences range from -0.0008% to -0.0006%.\n",
      "  shift_lon     nt = 60, mean = 14.79906, % differences range from -0.0008% to -0.0006%.\n",
      "  renamed       nt = 60, mean = 14.79906, % differences range from -0.0008% to -0.0006%.\n",
      "  reversed      nt = 60, mean = 14.79906, % differences range from -0.0008% to -0.0006%.\n"
     ]
    },
    {
     "name": "stderr",
     "output_type": "stream",
     "text": [
      "/Users/grandey/lib/python/climapy/climapy_xr.py:152: UserWarning: Total area calculated differs from spherical Earth by -0.003974783447845829%\n",
      "  'spherical Earth by {}%'.format(perc_diff))\n",
      "/Users/grandey/lib/python/climapy/climapy_xr.py:201: UserWarning: Input and output lon/lat coordinates not equal. Attempting to reindex.\n",
      "  warnings.warn('Input and output lon/lat coordinates not equal. Attempting to reindex.')\n"
     ]
    },
    {
     "name": "stdout",
     "output_type": "stream",
     "text": [
      "  reversed_lon  nt = 60, mean = 14.79906, % differences range from -0.0008% to -0.0006%.\n",
      "  reversed_lat  nt = 60, mean = 14.79906, % differences range from -0.0008% to -0.0006%.\n",
      "  transposed    nt = 60, mean = 14.79906, % differences range from -0.0008% to -0.0006%.\n",
      "  irregular     nt = 60, mean = 14.79889, % differences range from -0.0009% to -0.0006%.\n",
      "  \"strange\": ValueError encountered, as expected.\n"
     ]
    },
    {
     "name": "stderr",
     "output_type": "stream",
     "text": [
      "/Users/grandey/lib/python/climapy/climapy_xr.py:152: UserWarning: Total area calculated differs from spherical Earth by -0.003974783447845829%\n",
      "  'spherical Earth by {}%'.format(perc_diff))\n"
     ]
    }
   ],
   "source": [
    "# Test 1: For Datasets, compare differences for mean\n",
    "print('Comparing to cdo fldmean -sellonlatbox result, using \"TS\" ...')\n",
    "for region, bounds in region_bounds_dict.items():  # loop through regions\n",
    "    print('region = {}'.format(region))\n",
    "    lon_bounds, lat_bounds = bounds\n",
    "    cdo_result = cdo_dict[region]  # get CDO result\n",
    "    print('  CDO result:   nt = {}, mean = {:.5f}'.format(cdo_result['TS'].shape[0],\n",
    "                                                          float(cdo_result.mean()['TS']-273.15)))\n",
    "    for key in f0_dict.keys():  # loop through test Datasets\n",
    "        try:\n",
    "            if key == 'renamed':\n",
    "                lon_name, lat_name = 'longitude', 'latitude'\n",
    "            else:\n",
    "                lon_name, lat_name = 'lon', 'lat'\n",
    "            # Calculate area-weighted statistic\n",
    "            result = climapy.xr_area_weighted_stat(f0_dict[key], stat='mean',\n",
    "                                                   lon_bounds=lon_bounds, lat_bounds=lat_bounds,\n",
    "                                                   lon_name=lon_name, lat_name=lat_name)\n",
    "            # Compare to CDO result\n",
    "            perc = (result['TS'].values - cdo_result['TS'].values.flatten()) / cdo_result['TS'].values.flatten() * 100\n",
    "            print('  {}  '.format(key.ljust(12)) + \n",
    "                  'nt = {}, mean = {:.5f}, '.format(result['TS'].shape[0], float(result.mean()['TS']-273.15)) +\n",
    "                  '% differences range from {:.4f}% to {:.4f}%.'.format(perc.min(), perc.max()))\n",
    "            if np.abs(perc).max() > 0.1:# and key not in ['irregular', 'strange']:\n",
    "                print('    PROBLEM: largest % difference > +/-0.1%.')\n",
    "        except ValueError:\n",
    "            if key == 'strange':\n",
    "                print('  \"strange\": ValueError encountered, as expected.')\n",
    "            else:\n",
    "                print('  PROBLEM: unexpected ValueError encountered.')"
   ]
  },
  {
   "cell_type": "code",
   "execution_count": 32,
   "metadata": {
    "collapsed": true
   },
   "outputs": [],
   "source": [
    "# Use CDO to create reference data for testing purposes - sum of area for each region\n",
    "cdo_dict = {}  # dictionary in which to store reference data\n",
    "in_filename = data_dir + 'bb0_o2000.nc'\n",
    "for region, bounds in region_bounds_dict.items():\n",
    "    out_filename = temp_dir + temp_pre + region + '.nc'\n",
    "    lon_bounds, lat_bounds = bounds\n",
    "    if lon_bounds == None:\n",
    "        lon_bounds = (-180, 180)\n",
    "    if lat_bounds == None:\n",
    "        lat_bounds = (-90, 90)\n",
    "    bounds_str = ','.join([str(x) for x in lon_bounds+lat_bounds])\n",
    "    !cdo fldsum -sellonlatbox,{bounds_str} -gridarea {in_filename} {out_filename} &> /dev/null\n",
    "    # Load reference data\n",
    "    cdo_dict[region] = xr.open_dataset(out_filename)"
   ]
  },
  {
   "cell_type": "code",
   "execution_count": 33,
   "metadata": {},
   "outputs": [
    {
     "name": "stdout",
     "output_type": "stream",
     "text": [
      "Comparing to cdo fldsum -sellonlatbox -gridarea result...\n",
      "region = EAs\n",
      "  CDO result:   24182667932443.05\n",
      "  input         24183670123762.375, diff = 0.0041%\n",
      "  shift_lon     24183670123762.375, diff = 0.0041%\n",
      "  renamed       24183670123762.375, diff = 0.0041%\n",
      "  reversed      24183670123762.375, diff = 0.0041%\n",
      "  reversed_lon  24183670123762.375, diff = 0.0041%\n",
      "  reversed_lat  24183670123762.375, diff = 0.0041%\n",
      "  transposed    24183670123762.375, diff = 0.0041%\n",
      "  irregular     24180100369334.94, diff = -0.0106%\n",
      "  \"strange\": ValueError encountered, as expected.\n",
      "region = SEAs\n",
      "  CDO result:   24887790566281.637\n",
      "  input         24884217507190.86, diff = -0.0144%\n",
      "  shift_lon     24884217507190.86, diff = -0.0144%\n",
      "  renamed       24884217507190.86, diff = -0.0144%\n",
      "  reversed      24884217507190.86, diff = -0.0144%\n",
      "  reversed_lon  24884217507190.855, diff = -0.0144%\n",
      "  reversed_lat  24884217507190.86, diff = -0.0144%\n",
      "  transposed    24884217507190.86, diff = -0.0144%\n",
      "  irregular     24886387716755.96, diff = -0.0056%\n",
      "  \"strange\": ValueError encountered, as expected.\n",
      "region = ANZ\n",
      "  CDO result:   29413876992638.016\n",
      "  input         29412598262808.895, diff = -0.0043%\n",
      "  shift_lon     29412598262808.895, diff = -0.0043%"
     ]
    },
    {
     "name": "stderr",
     "output_type": "stream",
     "text": [
      "/Users/grandey/lib/python/climapy/climapy_xr.py:152: UserWarning: Total area calculated differs from spherical Earth by -0.003974783447845829%\n",
      "  'spherical Earth by {}%'.format(perc_diff))\n",
      "/Users/grandey/lib/python/climapy/climapy_xr.py:201: UserWarning: Input and output lon/lat coordinates not equal. Attempting to reindex.\n",
      "  warnings.warn('Input and output lon/lat coordinates not equal. Attempting to reindex.')\n",
      "/Users/grandey/lib/python/climapy/climapy_xr.py:152: UserWarning: Total area calculated differs from spherical Earth by -0.003974783447845829%\n",
      "  'spherical Earth by {}%'.format(perc_diff))\n",
      "/Users/grandey/lib/python/climapy/climapy_xr.py:201: UserWarning: Input and output lon/lat coordinates not equal. Attempting to reindex.\n",
      "  warnings.warn('Input and output lon/lat coordinates not equal. Attempting to reindex.')\n"
     ]
    },
    {
     "name": "stdout",
     "output_type": "stream",
     "text": [
      "\n",
      "  renamed       29412598262808.895, diff = -0.0043%\n",
      "  reversed      29412598262808.895, diff = -0.0043%\n",
      "  reversed_lon  29412598262808.895, diff = -0.0043%\n",
      "  reversed_lat  29412598262808.895, diff = -0.0043%\n",
      "  transposed    29412598262808.895, diff = -0.0043%\n",
      "  irregular     29419346606054.023, diff = 0.0186%\n",
      "  \"strange\": ValueError encountered, as expected.\n",
      "region = SAs\n",
      "  CDO result:   12911164052464.764\n",
      "  input         12909759670344.85, diff = -0.0109%\n",
      "  shift_lon     12909759670344.852, diff = -0.0109%\n",
      "  renamed       12909759670344.85, diff = -0.0109%\n",
      "  reversed      12909759670344.85, diff = -0.0109%\n",
      "  reversed_lon  12909759670344.85, diff = -0.0109%\n",
      "  reversed_lat  12909759670344.85, diff = -0.0109%\n",
      "  transposed    12909759670344.85, diff = -0.0109%\n",
      "  irregular     12911253441376.434, diff = 0.0007%\n",
      "  \"strange\": ValueError encountered, as expected.\n",
      "region = AfME\n",
      "  CDO result:   70180886676747.01\n",
      "  input         70173817687261.92, diff = -0.0101%\n",
      "  shift_lon     70173817687261.92, diff = -0.0101%\n"
     ]
    },
    {
     "name": "stderr",
     "output_type": "stream",
     "text": [
      "/Users/grandey/lib/python/climapy/climapy_xr.py:152: UserWarning: Total area calculated differs from spherical Earth by -0.003974783447845829%\n",
      "  'spherical Earth by {}%'.format(perc_diff))\n",
      "/Users/grandey/lib/python/climapy/climapy_xr.py:201: UserWarning: Input and output lon/lat coordinates not equal. Attempting to reindex.\n",
      "  warnings.warn('Input and output lon/lat coordinates not equal. Attempting to reindex.')\n",
      "/Users/grandey/lib/python/climapy/climapy_xr.py:152: UserWarning: Total area calculated differs from spherical Earth by -0.003974783447845829%\n",
      "  'spherical Earth by {}%'.format(perc_diff))\n",
      "/Users/grandey/lib/python/climapy/climapy_xr.py:201: UserWarning: Input and output lon/lat coordinates not equal. Attempting to reindex.\n",
      "  warnings.warn('Input and output lon/lat coordinates not equal. Attempting to reindex.')\n"
     ]
    },
    {
     "name": "stdout",
     "output_type": "stream",
     "text": [
      "  renamed       70173817687261.92, diff = -0.0101%\n",
      "  reversed      70173817687261.92, diff = -0.0101%\n",
      "  reversed_lon  70173817687261.914, diff = -0.0101%\n",
      "  reversed_lat  70173817687261.914, diff = -0.0101%\n",
      "  transposed    70173817687261.92, diff = -0.0101%\n",
      "  irregular     70163030572060.8, diff = -0.0254%\n",
      "  \"strange\": ValueError encountered, as expected.\n",
      "region = Eur\n",
      "  CDO result:   16645405051982.81\n",
      "  input         16647512212496.262, diff = 0.0127%\n",
      "  shift_lon     16647512212496.262, diff = 0.0127%\n",
      "  renamed       16647512212496.262, diff = 0.0127%\n",
      "  reversed      16647512212496.264, diff = 0.0127%\n",
      "  reversed_lon  16647512212496.264, diff = 0.0127%\n",
      "  reversed_lat  16647512212496.264, diff = 0.0127%\n",
      "  transposed    16647512212496.262, diff = 0.0127%\n",
      "  irregular     16646316854151.695, diff = 0.0055%\n",
      "  \"strange\": ValueError encountered, as expected.\n",
      "region = CAs\n",
      "  CDO result:   18092831578242.176\n",
      "  input         18095121970104.633, diff = 0.0127%\n",
      "  shift_lon     18095121970104.637, diff = 0.0127%"
     ]
    },
    {
     "name": "stderr",
     "output_type": "stream",
     "text": [
      "/Users/grandey/lib/python/climapy/climapy_xr.py:152: UserWarning: Total area calculated differs from spherical Earth by -0.003974783447845829%\n",
      "  'spherical Earth by {}%'.format(perc_diff))\n",
      "/Users/grandey/lib/python/climapy/climapy_xr.py:152: UserWarning: Total area calculated differs from spherical Earth by -0.003974783447845829%\n",
      "  'spherical Earth by {}%'.format(perc_diff))\n"
     ]
    },
    {
     "name": "stdout",
     "output_type": "stream",
     "text": [
      "\n",
      "  renamed       18095121970104.633, diff = 0.0127%\n",
      "  reversed      18095121970104.633, diff = 0.0127%\n",
      "  reversed_lon  18095121970104.633, diff = 0.0127%\n",
      "  reversed_lat  18095121970104.633, diff = 0.0127%\n",
      "  transposed    18095121970104.633, diff = 0.0127%\n",
      "  irregular     18096919915838.72, diff = 0.0226%\n",
      "  \"strange\": ValueError encountered, as expected.\n",
      "region = NAm\n",
      "  CDO result:   58924620860534.945\n",
      "  input         58927067068552.74, diff = 0.0042%\n",
      "  shift_lon     58927067068552.74, diff = 0.0042%\n",
      "  renamed       58927067068552.74, diff = 0.0042%\n",
      "  reversed      58927067068552.75, diff = 0.0042%\n",
      "  reversed_lon  58927067068552.75, diff = 0.0042%\n",
      "  reversed_lat  58927067068552.75, diff = 0.0042%\n",
      "  transposed    58927067068552.74, diff = 0.0042%\n",
      "  irregular     58926768426760.95, diff = 0.0036%\n",
      "  \"strange\": ValueError encountered, as expected.\n",
      "region = SAm\n",
      "  CDO result:   50166793131390.48\n",
      "  input         50163609244883.766, diff = -0.0063%\n",
      "  shift_lon     50163609244883.766, diff = -0.0063%\n"
     ]
    },
    {
     "name": "stderr",
     "output_type": "stream",
     "text": [
      "/Users/grandey/lib/python/climapy/climapy_xr.py:152: UserWarning: Total area calculated differs from spherical Earth by -0.003974783447845829%\n",
      "  'spherical Earth by {}%'.format(perc_diff))\n",
      "/Users/grandey/lib/python/climapy/climapy_xr.py:201: UserWarning: Input and output lon/lat coordinates not equal. Attempting to reindex.\n",
      "  warnings.warn('Input and output lon/lat coordinates not equal. Attempting to reindex.')\n",
      "/Users/grandey/lib/python/climapy/climapy_xr.py:152: UserWarning: Total area calculated differs from spherical Earth by -0.003974783447845829%\n",
      "  'spherical Earth by {}%'.format(perc_diff))\n"
     ]
    },
    {
     "name": "stdout",
     "output_type": "stream",
     "text": [
      "  renamed       50163609244883.766, diff = -0.0063%\n",
      "  reversed      50163609244883.766, diff = -0.0063%\n",
      "  reversed_lon  50163609244883.766, diff = -0.0063%\n",
      "  reversed_lat  50163609244883.766, diff = -0.0063%\n",
      "  transposed    50163609244883.766, diff = -0.0063%\n",
      "  irregular     50166174853653.0, diff = -0.0012%\n",
      "  \"strange\": ValueError encountered, as expected.\n",
      "region = Zon\n",
      "  CDO result:   13672983077669.018\n",
      "  input         13676598233085.457, diff = 0.0264%\n",
      "  shift_lon     13676598233085.457, diff = 0.0264%\n",
      "  renamed       13676598233085.457, diff = 0.0264%\n",
      "  reversed      13676598233085.457, diff = 0.0264%\n",
      "  reversed_lon  13676598233085.457, diff = 0.0264%\n",
      "  reversed_lat  13676598233085.457, diff = 0.0264%\n",
      "  transposed    13676598233085.457, diff = 0.0264%\n",
      "  irregular     13671658377104.484, diff = -0.0097%\n",
      "  \"strange\": ValueError encountered, as expected.\n",
      "region = Mer\n",
      "  CDO result:   14168457553049.658\n",
      "  input         14168457553049.674, diff = 0.0000%\n"
     ]
    },
    {
     "name": "stderr",
     "output_type": "stream",
     "text": [
      "/Users/grandey/lib/python/climapy/climapy_xr.py:152: UserWarning: Total area calculated differs from spherical Earth by -0.003974783447845829%\n",
      "  'spherical Earth by {}%'.format(perc_diff))\n",
      "/Users/grandey/lib/python/climapy/climapy_xr.py:201: UserWarning: Input and output lon/lat coordinates not equal. Attempting to reindex.\n",
      "  warnings.warn('Input and output lon/lat coordinates not equal. Attempting to reindex.')\n",
      "/Users/grandey/lib/python/climapy/climapy_xr.py:152: UserWarning: Total area calculated differs from spherical Earth by -0.003974783447845829%\n",
      "  'spherical Earth by {}%'.format(perc_diff))\n"
     ]
    },
    {
     "name": "stdout",
     "output_type": "stream",
     "text": [
      "  shift_lon     14168457553049.674, diff = 0.0000%\n",
      "  renamed       14168457553049.674, diff = 0.0000%\n",
      "  reversed      14168457553049.674, diff = 0.0000%\n",
      "  reversed_lon  14168457553049.674, diff = 0.0000%\n",
      "  reversed_lat  14168457553049.674, diff = 0.0000%\n",
      "  transposed    14168457553049.674, diff = 0.0000%\n",
      "  irregular     14164958521096.605, diff = -0.0247%\n",
      "  \"strange\": ValueError encountered, as expected.\n",
      "region = Glb\n",
      "  CDO result:   510064471909789.25\n",
      "  input         510064471909788.25, diff = -0.0000%\n",
      "  shift_lon     510064471909788.25, diff = -0.0000%\n",
      "  renamed       510064471909788.25, diff = -0.0000%\n",
      "  reversed      510064471909788.25, diff = -0.0000%\n",
      "  reversed_lon  510064471909788.25, diff = -0.0000%\n",
      "  reversed_lat  510064471909788.25, diff = -0.0000%\n",
      "  transposed    510064471909788.25, diff = -0.0000%\n",
      "  irregular     510044197951585.44, diff = -0.0040%\n",
      "  \"strange\": ValueError encountered, as expected.\n"
     ]
    },
    {
     "name": "stderr",
     "output_type": "stream",
     "text": [
      "/Users/grandey/lib/python/climapy/climapy_xr.py:152: UserWarning: Total area calculated differs from spherical Earth by -0.003974783447845829%\n",
      "  'spherical Earth by {}%'.format(perc_diff))\n",
      "/Users/grandey/lib/python/climapy/climapy_xr.py:201: UserWarning: Input and output lon/lat coordinates not equal. Attempting to reindex.\n",
      "  warnings.warn('Input and output lon/lat coordinates not equal. Attempting to reindex.')\n",
      "/Users/grandey/lib/python/climapy/climapy_xr.py:152: UserWarning: Total area calculated differs from spherical Earth by -0.003974783447845829%\n",
      "  'spherical Earth by {}%'.format(perc_diff))\n"
     ]
    }
   ],
   "source": [
    "# Test 2: For DataArrays, compare differences for \"area-weighted\" sum of ones\n",
    "print('Comparing to cdo fldsum -sellonlatbox -gridarea result...')\n",
    "for region, bounds in region_bounds_dict.items():  # loop through regions\n",
    "    print('region = {}'.format(region))\n",
    "    lon_bounds, lat_bounds = bounds\n",
    "    cdo_result = cdo_dict[region]['cell_area']  # get CDO result\n",
    "    cdo_result = cdo_result.values.flatten()[0]\n",
    "    print('  CDO result:   {}'.format(cdo_result))\n",
    "    for key in f0_dict.keys():  # loop through test Datasets\n",
    "        try:\n",
    "            if key == 'renamed':\n",
    "                lon_name, lat_name = 'longitude', 'latitude'\n",
    "            else:\n",
    "                lon_name, lat_name = 'lon', 'lat'\n",
    "            # Calculate area-weighted statistic\n",
    "            data = f0_dict[key]['TS']\n",
    "            data[:] = 1\n",
    "            result = climapy.xr_area_weighted_stat(data, stat='sum',\n",
    "                                                   lon_bounds=lon_bounds, lat_bounds=lat_bounds,\n",
    "                                                   lon_name=lon_name, lat_name=lat_name)\n",
    "            result = result.values[0]\n",
    "            # Compare to CDO result\n",
    "            perc = (result - cdo_result) / cdo_result * 100\n",
    "            print('  {}  '.format(key.ljust(12)) + \n",
    "                  '{}, diff = {:.4f}%'.format(result, perc))\n",
    "            if perc > 0.1:\n",
    "                print('    PROBLEM: % difference > +/-0.1%.')\n",
    "        except ValueError:\n",
    "            if key == 'strange':\n",
    "                print('  \"strange\": ValueError encountered, as expected.')\n",
    "            else:\n",
    "                print('  PROBLEM: unexpected ValueError encountered.')"
   ]
  },
  {
   "cell_type": "markdown",
   "metadata": {},
   "source": [
    "## Check that Datasets have not been modified in place"
   ]
  },
  {
   "cell_type": "code",
   "execution_count": 34,
   "metadata": {},
   "outputs": [
    {
     "name": "stdout",
     "output_type": "stream",
     "text": [
      "False for input\n",
      "False for shift_lon\n",
      "False for renamed\n",
      "False for reversed\n",
      "False for reversed_lon\n",
      "False for reversed_lat\n",
      "False for transposed\n",
      "False for irregular\n",
      "False for strange\n"
     ]
    }
   ],
   "source": [
    "# Check that Datasets in f0_dict are unchanged\n",
    "# Expected result: True for all\n",
    "for key in f0_dict.keys():\n",
    "    print('{} for {}'.format(f0_dict[key].identical(f0_dict_dc[key]), key))"
   ]
  },
  {
   "cell_type": "code",
   "execution_count": 35,
   "metadata": {},
   "outputs": [
    {
     "name": "stdout",
     "output_type": "stream",
     "text": [
      "True for input\n",
      "True for shift_lon\n",
      "True for renamed\n",
      "True for reversed\n",
      "True for reversed_lon\n",
      "True for reversed_lat\n",
      "True for transposed\n",
      "True for irregular\n",
      "True for strange\n"
     ]
    }
   ],
   "source": [
    "# Check that Datasets in fmean_dict are unchanged\n",
    "# Expected result: True for all\n",
    "for key in fmean_dict.keys():\n",
    "    print('{} for {}'.format(fmean_dict[key].identical(fmean_dict_dc[key]), key))"
   ]
  },
  {
   "cell_type": "markdown",
   "metadata": {},
   "source": [
    "## Clean up temporary files?\n",
    "User input is required. The recommended answer is 'y'. But proceed with cautioun - this cannot be undone."
   ]
  },
  {
   "cell_type": "code",
   "execution_count": 36,
   "metadata": {},
   "outputs": [
    {
     "name": "stdout",
     "output_type": "stream",
     "text": [
      "Temporary files found: ['/Users/grandey/data/temp/temp_dev_climapy_xr_AfME.nc', '/Users/grandey/data/temp/temp_dev_climapy_xr_ANZ.nc', '/Users/grandey/data/temp/temp_dev_climapy_xr_area.nc', '/Users/grandey/data/temp/temp_dev_climapy_xr_CAs.nc', '/Users/grandey/data/temp/temp_dev_climapy_xr_EAs.nc', '/Users/grandey/data/temp/temp_dev_climapy_xr_Eur.nc', '/Users/grandey/data/temp/temp_dev_climapy_xr_Glb.nc', '/Users/grandey/data/temp/temp_dev_climapy_xr_Mer.nc', '/Users/grandey/data/temp/temp_dev_climapy_xr_NAm.nc', '/Users/grandey/data/temp/temp_dev_climapy_xr_SAm.nc', '/Users/grandey/data/temp/temp_dev_climapy_xr_SAs.nc', '/Users/grandey/data/temp/temp_dev_climapy_xr_SEAs.nc', '/Users/grandey/data/temp/temp_dev_climapy_xr_Zon.nc']\n",
      "*Would you like to permanently delete these files?* Type \"y\" if so.\n",
      "Your response: y\n",
      "Deleting /Users/grandey/data/temp/temp_dev_climapy_xr_AfME.nc\n",
      "Deleting /Users/grandey/data/temp/temp_dev_climapy_xr_ANZ.nc\n",
      "Deleting /Users/grandey/data/temp/temp_dev_climapy_xr_area.nc\n",
      "Deleting /Users/grandey/data/temp/temp_dev_climapy_xr_CAs.nc\n",
      "Deleting /Users/grandey/data/temp/temp_dev_climapy_xr_EAs.nc\n",
      "Deleting /Users/grandey/data/temp/temp_dev_climapy_xr_Eur.nc\n",
      "Deleting /Users/grandey/data/temp/temp_dev_climapy_xr_Glb.nc\n",
      "Deleting /Users/grandey/data/temp/temp_dev_climapy_xr_Mer.nc\n",
      "Deleting /Users/grandey/data/temp/temp_dev_climapy_xr_NAm.nc\n",
      "Deleting /Users/grandey/data/temp/temp_dev_climapy_xr_SAm.nc\n",
      "Deleting /Users/grandey/data/temp/temp_dev_climapy_xr_SAs.nc\n",
      "Deleting /Users/grandey/data/temp/temp_dev_climapy_xr_SEAs.nc\n",
      "Deleting /Users/grandey/data/temp/temp_dev_climapy_xr_Zon.nc\n"
     ]
    }
   ],
   "source": [
    "# Clean up temporary data files? Recommended, but be cautious.\n",
    "temp_file_list = glob(temp_dir+temp_pre+'*')\n",
    "if temp_file_list:\n",
    "    s = input('Temporary files found: {}\\n'.format(temp_file_list) +\n",
    "              '*Would you like to permanently delete these files?* Type \"y\" if so.\\n' +\n",
    "              'Your response: ')\n",
    "    if s == 'y':\n",
    "        for temp_file in temp_file_list:\n",
    "            print('Deleting {}'.format(temp_file))\n",
    "            os.remove(temp_file)\n",
    "    else:\n",
    "        print('Files not deleted.')\n",
    "else:\n",
    "    print('No temporary files found.')"
   ]
  }
 ],
 "metadata": {
  "kernelspec": {
   "display_name": "Python 3",
   "language": "python",
   "name": "python3"
  },
  "language_info": {
   "codemirror_mode": {
    "name": "ipython",
    "version": 3
   },
   "file_extension": ".py",
   "mimetype": "text/x-python",
   "name": "python",
   "nbconvert_exporter": "python",
   "pygments_lexer": "ipython3",
   "version": "3.6.1"
  }
 },
 "nbformat": 4,
 "nbformat_minor": 2
}
