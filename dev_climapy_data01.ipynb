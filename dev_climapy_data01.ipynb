{
 "cells": [
  {
   "cell_type": "markdown",
   "metadata": {},
   "source": [
    "# dev_climapy_data01.ipynb\n",
    "## Purpose\n",
    "1. Generate data01.nc, to use as test data for climapy.\n",
    "2. Use CDO to calculate \"truths\" for testing of climapy.\n",
    "\n",
    "## Dependencies\n",
    "- Python packages listed below.\n",
    "- [Climate Data Operators (CDO)](https://code.zmaw.de/projects/cdo) - required for testing purposes.\n",
    "\n",
    "## History\n",
    "- 2017-04 - Benjamin S. Grandey."
   ]
  },
  {
   "cell_type": "code",
   "execution_count": 1,
   "metadata": {
    "collapsed": true
   },
   "outputs": [],
   "source": [
    "from glob import glob\n",
    "import os"
   ]
  },
  {
   "cell_type": "markdown",
   "metadata": {},
   "source": [
    "## Input data location\n",
    "In order to generate data01.nc, I will use NetCDF data files from [*Data for \"Radiative effects of interannually varying vs. interannually invariant aerosol emissions from fires\"* (doi: 10.6084/m9.figshare.3497705.v5)](https://doi.org/10.6084/m9.figshare.3497705.v5)."
   ]
  },
  {
   "cell_type": "code",
   "execution_count": 2,
   "metadata": {},
   "outputs": [],
   "source": [
    "# Location of gunzipped input NetCDF files - CHANGE IF NECESSARY\n",
    "in_dir = '$HOME/data/figshare/figshare3497705v5/'\n",
    "in_dir = os.path.expandvars(in_dir)\n",
    "# Select specific file - bb0_o2000.nc\n",
    "in_filename = in_dir + 'bb0_o2000.nc'"
   ]
  },
  {
   "cell_type": "markdown",
   "metadata": {},
   "source": [
    "## Output data location"
   ]
  },
  {
   "cell_type": "code",
   "execution_count": 3,
   "metadata": {
    "collapsed": true
   },
   "outputs": [],
   "source": [
    "# Directory in which to write output data01.nc\n",
    "data_dir = '$HOME/data/temp/'  # store here temporarily; move elsewhere later\n",
    "data_dir = os.path.expandvars(data_dir)\n",
    "data_filename = data_dir + 'data01.nc'"
   ]
  },
  {
   "cell_type": "code",
   "execution_count": 4,
   "metadata": {
    "collapsed": true
   },
   "outputs": [],
   "source": [
    "# Directory in which to write \"truths\" calculated by CDO\n",
    "cdo_dir = data_dir + 'cdo_results/'"
   ]
  },
  {
   "cell_type": "markdown",
   "metadata": {},
   "source": [
    "## Clean up previously created files?\n",
    "If previously created files are found, user input is required. The recommended answer is 'y'. But proceed with cautioun - this cannot be undone."
   ]
  },
  {
   "cell_type": "code",
   "execution_count": 5,
   "metadata": {},
   "outputs": [
    {
     "name": "stdout",
     "output_type": "stream",
     "text": [
      "No files found.\n"
     ]
    }
   ],
   "source": [
    "# Clean up data files previously created? Recommended, but be cautious.\n",
    "filename_list = glob(data_filename) + glob(cdo_dir+'*')\n",
    "if filename_list:\n",
    "    s = input('Files found: {}\\n'.format(filename_list) +\n",
    "              '*Would you like to permanently delete these files?* Type \"y\" if so.\\n' +\n",
    "              'Your response: ')\n",
    "    if s == 'y':\n",
    "        for filename in filename_list:\n",
    "            print('Deleting {}'.format(filename))\n",
    "            os.remove(filename)\n",
    "    else:\n",
    "        print('Files not deleted.')\n",
    "else:\n",
    "    print('No files found.')"
   ]
  },
  {
   "cell_type": "markdown",
   "metadata": {},
   "source": [
    "## Generate data01.nc"
   ]
  },
  {
   "cell_type": "code",
   "execution_count": 6,
   "metadata": {},
   "outputs": [],
   "source": [
    "# Select data from two variables over a 5-year period using CDO\n",
    "!cdo selyear,3,4,5,6,7 -selname,TS,PRECL {in_filename} {data_filename} &> /dev/null"
   ]
  },
  {
   "cell_type": "markdown",
   "metadata": {},
   "source": [
    "## Calculate grid-cell area using CDO"
   ]
  },
  {
   "cell_type": "code",
   "execution_count": 7,
   "metadata": {
    "collapsed": true
   },
   "outputs": [],
   "source": [
    "out_filename = cdo_dir + 'data01_gridarea.nc'\n",
    "!cdo gridarea {data_filename} {out_filename} &> /dev/null"
   ]
  },
  {
   "cell_type": "markdown",
   "metadata": {},
   "source": [
    "## Select data for regions using CDO"
   ]
  },
  {
   "cell_type": "code",
   "execution_count": 8,
   "metadata": {
    "collapsed": true
   },
   "outputs": [],
   "source": [
    "# Region bounds dictionary for development/testing purposes\n",
    "region_bounds_dict = {'EAs': [(94, 156), (20, 65)],  # longitude tuple, latitude tuple\n",
    "                      'SEAs': [(94, 161), (-10, 20)],\n",
    "                      'ANZ': [(109, 179), (-50, -10)],\n",
    "                      'SAs': [(61, 94), (0, 35)],\n",
    "                      'AfME': [(-21, 61), (-40, 35)],\n",
    "                      'Eur': [(-26, 31), (35, 75)],\n",
    "                      'CAs': [(31, 94), (35, 75)],\n",
    "                      'NAm': [(-169, -51), (15, 75)],\n",
    "                      'SAm': [(266, 329), (-60, 15)],\n",
    "                      'Zon': [None, (-75.5, -65.5)],\n",
    "                      'Mer': [(175.5, 185.5), None]}"
   ]
  },
  {
   "cell_type": "code",
   "execution_count": 9,
   "metadata": {
    "collapsed": true
   },
   "outputs": [],
   "source": [
    "# Use CDO to select data for regions\n",
    "for region, bounds in region_bounds_dict.items():\n",
    "    out_filename = cdo_dir + 'data01_' + region + '.nc'\n",
    "    lon_bounds, lat_bounds = bounds\n",
    "    if lon_bounds == None:\n",
    "        lon_bounds = (-180, 180)\n",
    "    if lat_bounds == None:\n",
    "        lat_bounds = (-90, 90)\n",
    "    bounds_str = ','.join([str(x) for x in lon_bounds+lat_bounds])\n",
    "    !cdo sellonlatbox,{bounds_str} {data_filename} {out_filename} &> /dev/null"
   ]
  },
  {
   "cell_type": "markdown",
   "metadata": {},
   "source": [
    "## Calculate sum of area for each region"
   ]
  },
  {
   "cell_type": "code",
   "execution_count": 10,
   "metadata": {
    "collapsed": true
   },
   "outputs": [],
   "source": [
    "# Globe\n",
    "out_filename = cdo_dir + 'data01_Glb_area.nc'\n",
    "!cdo fldsum -gridarea {data_filename} {out_filename} &> /dev/null"
   ]
  },
  {
   "cell_type": "code",
   "execution_count": 11,
   "metadata": {
    "collapsed": true
   },
   "outputs": [],
   "source": [
    "# Regions\n",
    "for region, bounds in region_bounds_dict.items():\n",
    "    out_filename = cdo_dir + 'data01_' + region + '_area.nc'\n",
    "    lon_bounds, lat_bounds = bounds\n",
    "    if lon_bounds == None:\n",
    "        lon_bounds = (-180, 180)\n",
    "    if lat_bounds == None:\n",
    "        lat_bounds = (-90, 90)\n",
    "    bounds_str = ','.join([str(x) for x in lon_bounds+lat_bounds])\n",
    "    !cdo fldsum -gridarea -sellonlatbox,{bounds_str} {data_filename} {out_filename} &> /dev/null"
   ]
  },
  {
   "cell_type": "markdown",
   "metadata": {},
   "source": [
    "## Calculate area-weighted mean for each region"
   ]
  },
  {
   "cell_type": "code",
   "execution_count": 12,
   "metadata": {
    "collapsed": true
   },
   "outputs": [],
   "source": [
    "# Globe\n",
    "out_filename = cdo_dir + 'data01_Glb_fldmean.nc'\n",
    "!cdo fldmean {data_filename} {out_filename} &> /dev/null"
   ]
  },
  {
   "cell_type": "code",
   "execution_count": 13,
   "metadata": {
    "collapsed": true
   },
   "outputs": [],
   "source": [
    "# Regions\n",
    "for region, bounds in region_bounds_dict.items():\n",
    "    out_filename = cdo_dir + 'data01_' + region + '_fldmean.nc'\n",
    "    lon_bounds, lat_bounds = bounds\n",
    "    if lon_bounds == None:\n",
    "        lon_bounds = (-180, 180)\n",
    "    if lat_bounds == None:\n",
    "        lat_bounds = (-90, 90)\n",
    "    bounds_str = ','.join([str(x) for x in lon_bounds+lat_bounds])\n",
    "    !cdo fldmean -sellonlatbox,{bounds_str} {data_filename} {out_filename} &> /dev/null"
   ]
  },
  {
   "cell_type": "markdown",
   "metadata": {},
   "source": [
    "## Summary of data in cdo_dir"
   ]
  },
  {
   "cell_type": "code",
   "execution_count": 14,
   "metadata": {},
   "outputs": [
    {
     "data": {
      "text/plain": [
       "['/Users/grandey/data/temp/cdo_results/data01_AfME.nc',\n",
       " '/Users/grandey/data/temp/cdo_results/data01_AfME_area.nc',\n",
       " '/Users/grandey/data/temp/cdo_results/data01_AfME_fldmean.nc',\n",
       " '/Users/grandey/data/temp/cdo_results/data01_ANZ.nc',\n",
       " '/Users/grandey/data/temp/cdo_results/data01_ANZ_area.nc',\n",
       " '/Users/grandey/data/temp/cdo_results/data01_ANZ_fldmean.nc',\n",
       " '/Users/grandey/data/temp/cdo_results/data01_CAs.nc',\n",
       " '/Users/grandey/data/temp/cdo_results/data01_CAs_area.nc',\n",
       " '/Users/grandey/data/temp/cdo_results/data01_CAs_fldmean.nc',\n",
       " '/Users/grandey/data/temp/cdo_results/data01_EAs.nc',\n",
       " '/Users/grandey/data/temp/cdo_results/data01_EAs_area.nc',\n",
       " '/Users/grandey/data/temp/cdo_results/data01_EAs_fldmean.nc',\n",
       " '/Users/grandey/data/temp/cdo_results/data01_Eur.nc',\n",
       " '/Users/grandey/data/temp/cdo_results/data01_Eur_area.nc',\n",
       " '/Users/grandey/data/temp/cdo_results/data01_Eur_fldmean.nc',\n",
       " '/Users/grandey/data/temp/cdo_results/data01_Glb_area.nc',\n",
       " '/Users/grandey/data/temp/cdo_results/data01_Glb_fldmean.nc',\n",
       " '/Users/grandey/data/temp/cdo_results/data01_gridarea.nc',\n",
       " '/Users/grandey/data/temp/cdo_results/data01_Mer.nc',\n",
       " '/Users/grandey/data/temp/cdo_results/data01_Mer_area.nc',\n",
       " '/Users/grandey/data/temp/cdo_results/data01_Mer_fldmean.nc',\n",
       " '/Users/grandey/data/temp/cdo_results/data01_NAm.nc',\n",
       " '/Users/grandey/data/temp/cdo_results/data01_NAm_area.nc',\n",
       " '/Users/grandey/data/temp/cdo_results/data01_NAm_fldmean.nc',\n",
       " '/Users/grandey/data/temp/cdo_results/data01_SAm.nc',\n",
       " '/Users/grandey/data/temp/cdo_results/data01_SAm_area.nc',\n",
       " '/Users/grandey/data/temp/cdo_results/data01_SAm_fldmean.nc',\n",
       " '/Users/grandey/data/temp/cdo_results/data01_SAs.nc',\n",
       " '/Users/grandey/data/temp/cdo_results/data01_SAs_area.nc',\n",
       " '/Users/grandey/data/temp/cdo_results/data01_SAs_fldmean.nc',\n",
       " '/Users/grandey/data/temp/cdo_results/data01_SEAs.nc',\n",
       " '/Users/grandey/data/temp/cdo_results/data01_SEAs_area.nc',\n",
       " '/Users/grandey/data/temp/cdo_results/data01_SEAs_fldmean.nc',\n",
       " '/Users/grandey/data/temp/cdo_results/data01_Zon.nc',\n",
       " '/Users/grandey/data/temp/cdo_results/data01_Zon_area.nc',\n",
       " '/Users/grandey/data/temp/cdo_results/data01_Zon_fldmean.nc']"
      ]
     },
     "execution_count": 14,
     "metadata": {},
     "output_type": "execute_result"
    }
   ],
   "source": [
    "glob(cdo_dir+'*')"
   ]
  }
 ],
 "metadata": {
  "kernelspec": {
   "display_name": "Python 3",
   "language": "python",
   "name": "python3"
  },
  "language_info": {
   "codemirror_mode": {
    "name": "ipython",
    "version": 3
   },
   "file_extension": ".py",
   "mimetype": "text/x-python",
   "name": "python",
   "nbconvert_exporter": "python",
   "pygments_lexer": "ipython3",
   "version": "3.6.1"
  }
 },
 "nbformat": 4,
 "nbformat_minor": 2
}
